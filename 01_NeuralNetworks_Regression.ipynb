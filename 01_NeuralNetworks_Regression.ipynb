{
  "nbformat": 4,
  "nbformat_minor": 0,
  "metadata": {
    "colab": {
      "provenance": []
    },
    "kernelspec": {
      "name": "python3",
      "display_name": "Python 3"
    },
    "language_info": {
      "name": "python"
    }
  },
  "cells": [
    {
      "cell_type": "code",
      "execution_count": null,
      "metadata": {
        "id": "4zLspNsSTaeN",
        "colab": {
          "base_uri": "https://localhost:8080/"
        },
        "outputId": "cac6f6d0-bf77-4732-fde2-8cf66a7254b8"
      },
      "outputs": [
        {
          "output_type": "stream",
          "name": "stdout",
          "text": [
            "2.15.0\n"
          ]
        }
      ],
      "source": [
        "import tensorflow as tf\n",
        "print(tf.__version__)"
      ]
    },
    {
      "cell_type": "markdown",
      "source": [
        "### Creating Data to view and fit\n"
      ],
      "metadata": {
        "id": "57_-TmGFVFVH"
      }
    },
    {
      "cell_type": "code",
      "source": [
        "import numpy as np\n",
        "import matplotlib.pyplot as plt\n",
        "# Create Features\n",
        "X = np.array([-7.0,-4.0,-1.0, 2.0, 5.0, 8.0, 11.0, 14.0])\n",
        "\n",
        "# Create Labels\n",
        "y= np.array([3.0, 6.0, 9.0, 12.0, 15.0, 18.0, 21.0, 24.0])\n",
        "\n",
        "# Visualize\n",
        "plt.scatter(X,y)"
      ],
      "metadata": {
        "colab": {
          "base_uri": "https://localhost:8080/",
          "height": 452
        },
        "id": "8akJf1ONU8Fu",
        "outputId": "95706ea3-aad4-4302-bb33-366fad7c2896"
      },
      "execution_count": null,
      "outputs": [
        {
          "output_type": "execute_result",
          "data": {
            "text/plain": [
              "<matplotlib.collections.PathCollection at 0x7ad94249a020>"
            ]
          },
          "metadata": {},
          "execution_count": 43
        },
        {
          "output_type": "display_data",
          "data": {
            "text/plain": [
              "<Figure size 640x480 with 1 Axes>"
            ],
            "image/png": "[encoded data removed]"
          },
          "metadata": {}
        }
      ]
    },
    {
      "cell_type": "code",
      "source": [
        "## example input and output shapes of a regression model\n",
        "house_info = tf.constant([\"bedroom\",\"bathroom\",\"garage\"])\n",
        "house_price = tf.constant([939700])\n",
        "house_info, house_price"
      ],
      "metadata": {
        "colab": {
          "base_uri": "https://localhost:8080/"
        },
        "id": "StgnlRZnVkSO",
        "outputId": "08841b94-1a90-4ce0-b9a8-e8fb774ffe97"
      },
      "execution_count": null,
      "outputs": [
        {
          "output_type": "execute_result",
          "data": {
            "text/plain": [
              "(<tf.Tensor: shape=(3,), dtype=string, numpy=array([b'bedroom', b'bathroom', b'garage'], dtype=object)>,\n",
              " <tf.Tensor: shape=(1,), dtype=int32, numpy=array([939700], dtype=int32)>)"
            ]
          },
          "metadata": {},
          "execution_count": 44
        }
      ]
    },
    {
      "cell_type": "markdown",
      "source": [
        "### Using tensors\n"
      ],
      "metadata": {
        "id": "SBjpHeNSWOOY"
      }
    },
    {
      "cell_type": "code",
      "source": [
        "# Create features (using tensors)\n",
        "X = tf.constant([-7.0, -4.0, -1.0, 2.0, 5.0, 8.0, 11.0, 14.0])\n",
        "\n",
        "# Create labels (using tensors)\n",
        "y = tf.constant([3.0, 6.0, 9.0, 12.0, 15.0, 18.0, 21.0, 24.0])\n",
        "\n",
        "# Visualize it\n",
        "plt.scatter(X, y);"
      ],
      "metadata": {
        "colab": {
          "base_uri": "https://localhost:8080/",
          "height": 435
        },
        "id": "han7hYxPWQRK",
        "outputId": "49f0542f-253f-411c-e601-02695a29fb5f"
      },
      "execution_count": null,
      "outputs": [
        {
          "output_type": "display_data",
          "data": {
            "text/plain": [
              "<Figure size 640x480 with 1 Axes>"
            ],
            "image/png": "[encoded data removed]"
          },
          "metadata": {}
        }
      ]
    },
    {
      "cell_type": "markdown",
      "source": [
        "#### Our goal here will be to use X to predict y.\n",
        "\n",
        "\n",
        "So our input will be X and our output will be y"
      ],
      "metadata": {
        "id": "Wqa4Dv3VWX9e"
      }
    },
    {
      "cell_type": "code",
      "source": [
        "# Take a single example of X\n",
        "input_shape = X[0].shape\n",
        "\n",
        "# Take a single example of y\n",
        "output_shape = y[0].shape\n",
        "\n",
        "input_shape, output_shape # these are both scalars (no shape)"
      ],
      "metadata": {
        "colab": {
          "base_uri": "https://localhost:8080/"
        },
        "id": "s7eTD7KKWacD",
        "outputId": "9b52e981-784d-45a6-e352-9cab5cdca6a5"
      },
      "execution_count": null,
      "outputs": [
        {
          "output_type": "execute_result",
          "data": {
            "text/plain": [
              "(TensorShape([]), TensorShape([]))"
            ]
          },
          "metadata": {},
          "execution_count": 46
        }
      ]
    },
    {
      "cell_type": "code",
      "source": [
        "# Let's take a look at the single examples invidually\n",
        "X[0], y[0]"
      ],
      "metadata": {
        "colab": {
          "base_uri": "https://localhost:8080/"
        },
        "id": "Ubu3kk6AclNv",
        "outputId": "38356646-d185-4d11-e00d-8b989883859b"
      },
      "execution_count": null,
      "outputs": [
        {
          "output_type": "execute_result",
          "data": {
            "text/plain": [
              "(<tf.Tensor: shape=(), dtype=float32, numpy=-7.0>,\n",
              " <tf.Tensor: shape=(), dtype=float32, numpy=3.0>)"
            ]
          },
          "metadata": {},
          "execution_count": 47
        }
      ]
    },
    {
      "cell_type": "markdown",
      "source": [
        "### Steps in Modelling in Tensorflow"
      ],
      "metadata": {
        "id": "K-cv-ZzCdmBd"
      }
    },
    {
      "cell_type": "code",
      "source": [
        "# Set random seed\n",
        "tf.random.set_seed(42)\n",
        "\n",
        "#Create a model using sequential API\n",
        "model= tf.keras.Sequential([\n",
        "    tf.keras.layers.Dense(1)\n",
        "])\n",
        "\n",
        "# Compile the model\n",
        "model.compile(loss=tf.keras.losses.mae,\n",
        "              optimizer= tf.keras.optimizers.SGD(),\n",
        "              metrics=[\"mae\"]\n",
        ")\n",
        "\n",
        "#Fit the model\n",
        "model.fit(tf.expand_dims(X, axis=-1),y,  epochs=5)"
      ],
      "metadata": {
        "colab": {
          "base_uri": "https://localhost:8080/"
        },
        "id": "gE5jFoTndFNx",
        "outputId": "c03df53f-4800-4935-9a97-478dc15a042b"
      },
      "execution_count": null,
      "outputs": [
        {
          "output_type": "stream",
          "name": "stdout",
          "text": [
            "Epoch 1/5\n",
            "1/1 [==============================] - 1s 501ms/step - loss: 10.0026 - mae: 10.0026\n",
            "Epoch 2/5\n",
            "1/1 [==============================] - 0s 18ms/step - loss: 9.8701 - mae: 9.8701\n",
            "Epoch 3/5\n",
            "1/1 [==============================] - 0s 17ms/step - loss: 9.7376 - mae: 9.7376\n",
            "Epoch 4/5\n",
            "1/1 [==============================] - 0s 10ms/step - loss: 9.6051 - mae: 9.6051\n",
            "Epoch 5/5\n",
            "1/1 [==============================] - 0s 11ms/step - loss: 9.4726 - mae: 9.4726\n"
          ]
        },
        {
          "output_type": "execute_result",
          "data": {
            "text/plain": [
              "<keras.src.callbacks.History at 0x7ad9423683a0>"
            ]
          },
          "metadata": {},
          "execution_count": 48
        }
      ]
    },
    {
      "cell_type": "code",
      "source": [
        "X,y"
      ],
      "metadata": {
        "colab": {
          "base_uri": "https://localhost:8080/"
        },
        "id": "Olrs739-fOk1",
        "outputId": "3900fc26-04d1-49e7-8bc1-e7c3ebf61fbf"
      },
      "execution_count": null,
      "outputs": [
        {
          "output_type": "execute_result",
          "data": {
            "text/plain": [
              "(<tf.Tensor: shape=(8,), dtype=float32, numpy=array([-7., -4., -1.,  2.,  5.,  8., 11., 14.], dtype=float32)>,\n",
              " <tf.Tensor: shape=(8,), dtype=float32, numpy=array([ 3.,  6.,  9., 12., 15., 18., 21., 24.], dtype=float32)>)"
            ]
          },
          "metadata": {},
          "execution_count": 49
        }
      ]
    },
    {
      "cell_type": "code",
      "source": [
        "#Prediction\n",
        "model.predict([17.0])"
      ],
      "metadata": {
        "colab": {
          "base_uri": "https://localhost:8080/"
        },
        "id": "XwwXnRB_fUYZ",
        "outputId": "77ebc966-83f0-427d-d159-e04e1324a820"
      },
      "execution_count": null,
      "outputs": [
        {
          "output_type": "stream",
          "name": "stdout",
          "text": [
            "1/1 [==============================] - 0s 108ms/step\n"
          ]
        },
        {
          "output_type": "execute_result",
          "data": {
            "text/plain": [
              "array([[20.0123]], dtype=float32)"
            ]
          },
          "metadata": {},
          "execution_count": 50
        }
      ]
    },
    {
      "cell_type": "markdown",
      "source": [
        "###Improving a Model"
      ],
      "metadata": {
        "id": "50sBZXSJfg2x"
      }
    },
    {
      "cell_type": "code",
      "source": [
        "# make a bigger dataset\n",
        "X = np.arange(-100,100,4)\n",
        "X"
      ],
      "metadata": {
        "id": "c0ex3W6sfjs1",
        "colab": {
          "base_uri": "https://localhost:8080/"
        },
        "outputId": "da01b228-cf59-47a7-c3c0-9864ddd076bd"
      },
      "execution_count": null,
      "outputs": [
        {
          "output_type": "execute_result",
          "data": {
            "text/plain": [
              "array([-100,  -96,  -92,  -88,  -84,  -80,  -76,  -72,  -68,  -64,  -60,\n",
              "        -56,  -52,  -48,  -44,  -40,  -36,  -32,  -28,  -24,  -20,  -16,\n",
              "        -12,   -8,   -4,    0,    4,    8,   12,   16,   20,   24,   28,\n",
              "         32,   36,   40,   44,   48,   52,   56,   60,   64,   68,   72,\n",
              "         76,   80,   84,   88,   92,   96])"
            ]
          },
          "metadata": {},
          "execution_count": 51
        }
      ]
    },
    {
      "cell_type": "code",
      "source": [
        "#make labels for the dataset\n",
        "y = np.arange(-90,110,4)\n",
        "y"
      ],
      "metadata": {
        "colab": {
          "base_uri": "https://localhost:8080/"
        },
        "id": "6WxmEIxkyoBY",
        "outputId": "f3de06e2-ba81-427b-9d0d-3ae2a6407cc8"
      },
      "execution_count": null,
      "outputs": [
        {
          "output_type": "execute_result",
          "data": {
            "text/plain": [
              "array([-90, -86, -82, -78, -74, -70, -66, -62, -58, -54, -50, -46, -42,\n",
              "       -38, -34, -30, -26, -22, -18, -14, -10,  -6,  -2,   2,   6,  10,\n",
              "        14,  18,  22,  26,  30,  34,  38,  42,  46,  50,  54,  58,  62,\n",
              "        66,  70,  74,  78,  82,  86,  90,  94,  98, 102, 106])"
            ]
          },
          "metadata": {},
          "execution_count": 52
        }
      ]
    },
    {
      "cell_type": "code",
      "source": [
        "y = X + 10\n",
        "y"
      ],
      "metadata": {
        "colab": {
          "base_uri": "https://localhost:8080/"
        },
        "id": "_T6iEwOny0lV",
        "outputId": "7cf40525-ac89-4dc4-bffc-2119114ff8bb"
      },
      "execution_count": null,
      "outputs": [
        {
          "output_type": "execute_result",
          "data": {
            "text/plain": [
              "array([-90, -86, -82, -78, -74, -70, -66, -62, -58, -54, -50, -46, -42,\n",
              "       -38, -34, -30, -26, -22, -18, -14, -10,  -6,  -2,   2,   6,  10,\n",
              "        14,  18,  22,  26,  30,  34,  38,  42,  46,  50,  54,  58,  62,\n",
              "        66,  70,  74,  78,  82,  86,  90,  94,  98, 102, 106])"
            ]
          },
          "metadata": {},
          "execution_count": 53
        }
      ]
    },
    {
      "cell_type": "code",
      "source": [
        "# Split data into training/test set\n",
        "len(X)"
      ],
      "metadata": {
        "colab": {
          "base_uri": "https://localhost:8080/"
        },
        "id": "fMLSJTray5Bv",
        "outputId": "3f8a2d26-12dd-472a-c1cc-4903fe32f39a"
      },
      "execution_count": null,
      "outputs": [
        {
          "output_type": "execute_result",
          "data": {
            "text/plain": [
              "50"
            ]
          },
          "metadata": {},
          "execution_count": 54
        }
      ]
    },
    {
      "cell_type": "code",
      "source": [
        "# Split data into train and test sets\n",
        "X_train = X[:40]  # first 40 samples (80% of data)\n",
        "y_train = y[:40]\n",
        "\n",
        "X_test = X[40:]\n",
        "y_test = y[40:]\n",
        "\n",
        "len(X_train), len(X_test)"
      ],
      "metadata": {
        "colab": {
          "base_uri": "https://localhost:8080/"
        },
        "id": "fcp6-y_gzN57",
        "outputId": "6fdba041-0c56-4999-81ed-59860b807f58"
      },
      "execution_count": null,
      "outputs": [
        {
          "output_type": "execute_result",
          "data": {
            "text/plain": [
              "(40, 10)"
            ]
          },
          "metadata": {},
          "execution_count": 55
        }
      ]
    },
    {
      "cell_type": "code",
      "source": [
        "##Visualize Data\n",
        "plt.figure(figsize=(10,7))\n",
        "# Plotting training data in blue\n",
        "plt.scatter(X_train, y_train,c='b', label='training data')\n",
        "#plotting test data in green\n",
        "plt.scatter(X_test, y_test,c='g',label= 'testing data')\n",
        "plt.legend();\n"
      ],
      "metadata": {
        "colab": {
          "base_uri": "https://localhost:8080/",
          "height": 599
        },
        "id": "0C1ZWW_Jz2WX",
        "outputId": "6eb7b0d0-4e0f-4e1c-d876-4a55ba661a44"
      },
      "execution_count": null,
      "outputs": [
        {
          "output_type": "display_data",
          "data": {
            "text/plain": [
              "<Figure size 1000x700 with 1 Axes>"
            ],
            "image/png": "[encoded data removed]"
          },
          "metadata": {}
        }
      ]
    },
    {
      "cell_type": "code",
      "source": [
        "tf.random.set_seed(42)\n",
        "\n",
        "# Create a model\n",
        "model= tf.keras.Sequential([\n",
        "    tf.keras.layers.Dense(1,input_shape=[1])\n",
        "])\n",
        "#Compile a model\n",
        "model.compile(loss=tf.keras.losses.mae,\n",
        "              optimizer=tf.keras.optimizers.SGD(),\n",
        "              metrics=[\"mae\"]\n",
        "              )"
      ],
      "metadata": {
        "id": "Cp1J_xI30jaO"
      },
      "execution_count": null,
      "outputs": []
    },
    {
      "cell_type": "markdown",
      "source": [
        "### Visualizing a model"
      ],
      "metadata": {
        "id": "SS9K5I-RB-64"
      }
    },
    {
      "cell_type": "code",
      "source": [
        "model.summary()"
      ],
      "metadata": {
        "colab": {
          "base_uri": "https://localhost:8080/"
        },
        "id": "4vw_4PM6CDSp",
        "outputId": "3698d4ee-e1f4-4b81-f93a-978acdf93836"
      },
      "execution_count": null,
      "outputs": [
        {
          "output_type": "stream",
          "name": "stdout",
          "text": [
            "Model: \"sequential_4\"\n",
            "_________________________________________________________________\n",
            " Layer (type)                Output Shape              Param #   \n",
            "=================================================================\n",
            " dense_4 (Dense)             (None, 1)                 2         \n",
            "                                                                 \n",
            "=================================================================\n",
            "Total params: 2 (8.00 Byte)\n",
            "Trainable params: 2 (8.00 Byte)\n",
            "Non-trainable params: 0 (0.00 Byte)\n",
            "_________________________________________________________________\n"
          ]
        }
      ]
    },
    {
      "cell_type": "code",
      "source": [
        "# Fit the model to the training data\n",
        "model.fit(X_train, y_train, epochs=100, verbose=2) # verbose controls how much gets output"
      ],
      "metadata": {
        "colab": {
          "base_uri": "https://localhost:8080/"
        },
        "id": "ypI5RhM7CG_q",
        "outputId": "486d8e74-e59d-4c20-cce9-042bdfbb2d42"
      },
      "execution_count": null,
      "outputs": [
        {
          "output_type": "stream",
          "name": "stdout",
          "text": [
            "Epoch 1/100\n",
            "2/2 - 0s - loss: 31.7491 - mae: 31.7491 - 324ms/epoch - 162ms/step\n",
            "Epoch 2/100\n",
            "2/2 - 0s - loss: 8.9142 - mae: 8.9142 - 12ms/epoch - 6ms/step\n",
            "Epoch 3/100\n",
            "2/2 - 0s - loss: 9.7818 - mae: 9.7818 - 11ms/epoch - 6ms/step\n",
            "Epoch 4/100\n",
            "2/2 - 0s - loss: 11.9618 - mae: 11.9618 - 14ms/epoch - 7ms/step\n",
            "Epoch 5/100\n",
            "2/2 - 0s - loss: 11.0258 - mae: 11.0258 - 15ms/epoch - 8ms/step\n",
            "Epoch 6/100\n",
            "2/2 - 0s - loss: 10.1845 - mae: 10.1845 - 12ms/epoch - 6ms/step\n",
            "Epoch 7/100\n",
            "2/2 - 0s - loss: 9.2001 - mae: 9.2001 - 12ms/epoch - 6ms/step\n",
            "Epoch 8/100\n",
            "2/2 - 0s - loss: 9.1334 - mae: 9.1334 - 16ms/epoch - 8ms/step\n",
            "Epoch 9/100\n",
            "2/2 - 0s - loss: 11.7476 - mae: 11.7476 - 13ms/epoch - 6ms/step\n",
            "Epoch 10/100\n",
            "2/2 - 0s - loss: 13.6681 - mae: 13.6681 - 10ms/epoch - 5ms/step\n",
            "Epoch 11/100\n",
            "2/2 - 0s - loss: 11.7368 - mae: 11.7368 - 10ms/epoch - 5ms/step\n",
            "Epoch 12/100\n",
            "2/2 - 0s - loss: 16.4379 - mae: 16.4379 - 12ms/epoch - 6ms/step\n",
            "Epoch 13/100\n",
            "2/2 - 0s - loss: 11.9629 - mae: 11.9629 - 11ms/epoch - 6ms/step\n",
            "Epoch 14/100\n",
            "2/2 - 0s - loss: 13.9015 - mae: 13.9015 - 10ms/epoch - 5ms/step\n",
            "Epoch 15/100\n",
            "2/2 - 0s - loss: 11.2900 - mae: 11.2900 - 10ms/epoch - 5ms/step\n",
            "Epoch 16/100\n",
            "2/2 - 0s - loss: 8.5672 - mae: 8.5672 - 9ms/epoch - 5ms/step\n",
            "Epoch 17/100\n",
            "2/2 - 0s - loss: 13.7057 - mae: 13.7057 - 10ms/epoch - 5ms/step\n",
            "Epoch 18/100\n",
            "2/2 - 0s - loss: 11.5531 - mae: 11.5531 - 12ms/epoch - 6ms/step\n",
            "Epoch 19/100\n",
            "2/2 - 0s - loss: 17.7943 - mae: 17.7943 - 11ms/epoch - 6ms/step\n",
            "Epoch 20/100\n",
            "2/2 - 0s - loss: 14.9299 - mae: 14.9299 - 11ms/epoch - 6ms/step\n",
            "Epoch 21/100\n",
            "2/2 - 0s - loss: 10.8164 - mae: 10.8164 - 11ms/epoch - 6ms/step\n",
            "Epoch 22/100\n",
            "2/2 - 0s - loss: 8.5643 - mae: 8.5643 - 10ms/epoch - 5ms/step\n",
            "Epoch 23/100\n",
            "2/2 - 0s - loss: 9.7237 - mae: 9.7237 - 10ms/epoch - 5ms/step\n",
            "Epoch 24/100\n",
            "2/2 - 0s - loss: 10.9266 - mae: 10.9266 - 10ms/epoch - 5ms/step\n",
            "Epoch 25/100\n",
            "2/2 - 0s - loss: 9.1434 - mae: 9.1434 - 10ms/epoch - 5ms/step\n",
            "Epoch 26/100\n",
            "2/2 - 0s - loss: 13.1629 - mae: 13.1629 - 10ms/epoch - 5ms/step\n",
            "Epoch 27/100\n",
            "2/2 - 0s - loss: 10.6413 - mae: 10.6413 - 10ms/epoch - 5ms/step\n",
            "Epoch 28/100\n",
            "2/2 - 0s - loss: 12.8524 - mae: 12.8524 - 10ms/epoch - 5ms/step\n",
            "Epoch 29/100\n",
            "2/2 - 0s - loss: 9.4971 - mae: 9.4971 - 10ms/epoch - 5ms/step\n",
            "Epoch 30/100\n",
            "2/2 - 0s - loss: 16.3634 - mae: 16.3634 - 10ms/epoch - 5ms/step\n",
            "Epoch 31/100\n",
            "2/2 - 0s - loss: 23.6167 - mae: 23.6167 - 11ms/epoch - 6ms/step\n",
            "Epoch 32/100\n",
            "2/2 - 0s - loss: 7.6080 - mae: 7.6080 - 10ms/epoch - 5ms/step\n",
            "Epoch 33/100\n",
            "2/2 - 0s - loss: 9.3075 - mae: 9.3075 - 10ms/epoch - 5ms/step\n",
            "Epoch 34/100\n",
            "2/2 - 0s - loss: 13.7050 - mae: 13.7050 - 10ms/epoch - 5ms/step\n",
            "Epoch 35/100\n",
            "2/2 - 0s - loss: 11.1298 - mae: 11.1298 - 10ms/epoch - 5ms/step\n",
            "Epoch 36/100\n",
            "2/2 - 0s - loss: 13.3373 - mae: 13.3373 - 10ms/epoch - 5ms/step\n",
            "Epoch 37/100\n",
            "2/2 - 0s - loss: 9.4587 - mae: 9.4587 - 11ms/epoch - 6ms/step\n",
            "Epoch 38/100\n",
            "2/2 - 0s - loss: 10.1164 - mae: 10.1164 - 11ms/epoch - 6ms/step\n",
            "Epoch 39/100\n",
            "2/2 - 0s - loss: 10.1816 - mae: 10.1816 - 11ms/epoch - 6ms/step\n",
            "Epoch 40/100\n",
            "2/2 - 0s - loss: 10.9210 - mae: 10.9210 - 11ms/epoch - 5ms/step\n",
            "Epoch 41/100\n",
            "2/2 - 0s - loss: 7.9092 - mae: 7.9092 - 11ms/epoch - 5ms/step\n",
            "Epoch 42/100\n",
            "2/2 - 0s - loss: 10.0718 - mae: 10.0718 - 15ms/epoch - 8ms/step\n",
            "Epoch 43/100\n",
            "2/2 - 0s - loss: 8.6870 - mae: 8.6870 - 11ms/epoch - 6ms/step\n",
            "Epoch 44/100\n",
            "2/2 - 0s - loss: 12.1782 - mae: 12.1782 - 10ms/epoch - 5ms/step\n",
            "Epoch 45/100\n",
            "2/2 - 0s - loss: 13.8083 - mae: 13.8083 - 10ms/epoch - 5ms/step\n",
            "Epoch 46/100\n",
            "2/2 - 0s - loss: 8.4721 - mae: 8.4721 - 12ms/epoch - 6ms/step\n",
            "Epoch 47/100\n",
            "2/2 - 0s - loss: 9.1153 - mae: 9.1153 - 15ms/epoch - 8ms/step\n",
            "Epoch 48/100\n",
            "2/2 - 0s - loss: 10.5966 - mae: 10.5966 - 11ms/epoch - 6ms/step\n",
            "Epoch 49/100\n",
            "2/2 - 0s - loss: 7.7340 - mae: 7.7340 - 12ms/epoch - 6ms/step\n",
            "Epoch 50/100\n",
            "2/2 - 0s - loss: 9.5198 - mae: 9.5198 - 13ms/epoch - 6ms/step\n",
            "Epoch 51/100\n",
            "2/2 - 0s - loss: 9.1467 - mae: 9.1467 - 10ms/epoch - 5ms/step\n",
            "Epoch 52/100\n",
            "2/2 - 0s - loss: 16.3346 - mae: 16.3346 - 13ms/epoch - 7ms/step\n",
            "Epoch 53/100\n",
            "2/2 - 0s - loss: 14.1341 - mae: 14.1341 - 9ms/epoch - 5ms/step\n",
            "Epoch 54/100\n",
            "2/2 - 0s - loss: 21.1482 - mae: 21.1482 - 12ms/epoch - 6ms/step\n",
            "Epoch 55/100\n",
            "2/2 - 0s - loss: 16.3683 - mae: 16.3683 - 14ms/epoch - 7ms/step\n",
            "Epoch 56/100\n",
            "2/2 - 0s - loss: 9.9916 - mae: 9.9916 - 13ms/epoch - 7ms/step\n",
            "Epoch 57/100\n",
            "2/2 - 0s - loss: 9.9406 - mae: 9.9406 - 11ms/epoch - 5ms/step\n",
            "Epoch 58/100\n",
            "2/2 - 0s - loss: 9.2020 - mae: 9.2020 - 11ms/epoch - 6ms/step\n",
            "Epoch 59/100\n",
            "2/2 - 0s - loss: 8.4064 - mae: 8.4064 - 12ms/epoch - 6ms/step\n",
            "Epoch 60/100\n",
            "2/2 - 0s - loss: 9.4703 - mae: 9.4703 - 12ms/epoch - 6ms/step\n",
            "Epoch 61/100\n",
            "2/2 - 0s - loss: 11.4106 - mae: 11.4106 - 11ms/epoch - 6ms/step\n",
            "Epoch 62/100\n",
            "2/2 - 0s - loss: 11.6988 - mae: 11.6988 - 9ms/epoch - 4ms/step\n",
            "Epoch 63/100\n",
            "2/2 - 0s - loss: 7.0686 - mae: 7.0686 - 11ms/epoch - 6ms/step\n",
            "Epoch 64/100\n",
            "2/2 - 0s - loss: 16.9803 - mae: 16.9803 - 10ms/epoch - 5ms/step\n",
            "Epoch 65/100\n",
            "2/2 - 0s - loss: 12.4663 - mae: 12.4663 - 9ms/epoch - 5ms/step\n",
            "Epoch 66/100\n",
            "2/2 - 0s - loss: 13.0295 - mae: 13.0295 - 11ms/epoch - 6ms/step\n",
            "Epoch 67/100\n",
            "2/2 - 0s - loss: 8.0577 - mae: 8.0577 - 9ms/epoch - 5ms/step\n",
            "Epoch 68/100\n",
            "2/2 - 0s - loss: 10.1919 - mae: 10.1919 - 9ms/epoch - 4ms/step\n",
            "Epoch 69/100\n",
            "2/2 - 0s - loss: 12.3754 - mae: 12.3754 - 11ms/epoch - 5ms/step\n",
            "Epoch 70/100\n",
            "2/2 - 0s - loss: 9.0330 - mae: 9.0330 - 9ms/epoch - 5ms/step\n",
            "Epoch 71/100\n",
            "2/2 - 0s - loss: 10.0183 - mae: 10.0183 - 9ms/epoch - 5ms/step\n",
            "Epoch 72/100\n",
            "2/2 - 0s - loss: 10.0347 - mae: 10.0347 - 9ms/epoch - 5ms/step\n",
            "Epoch 73/100\n",
            "2/2 - 0s - loss: 12.5895 - mae: 12.5895 - 10ms/epoch - 5ms/step\n",
            "Epoch 74/100\n",
            "2/2 - 0s - loss: 10.3930 - mae: 10.3930 - 13ms/epoch - 6ms/step\n",
            "Epoch 75/100\n",
            "2/2 - 0s - loss: 9.7050 - mae: 9.7050 - 9ms/epoch - 4ms/step\n",
            "Epoch 76/100\n",
            "2/2 - 0s - loss: 11.2033 - mae: 11.2033 - 9ms/epoch - 4ms/step\n",
            "Epoch 77/100\n",
            "2/2 - 0s - loss: 8.3475 - mae: 8.3475 - 9ms/epoch - 5ms/step\n",
            "Epoch 78/100\n",
            "2/2 - 0s - loss: 9.1026 - mae: 9.1026 - 9ms/epoch - 4ms/step\n",
            "Epoch 79/100\n",
            "2/2 - 0s - loss: 19.5257 - mae: 19.5257 - 9ms/epoch - 5ms/step\n",
            "Epoch 80/100\n",
            "2/2 - 0s - loss: 14.8674 - mae: 14.8674 - 9ms/epoch - 4ms/step\n",
            "Epoch 81/100\n",
            "2/2 - 0s - loss: 9.0172 - mae: 9.0172 - 10ms/epoch - 5ms/step\n",
            "Epoch 82/100\n",
            "2/2 - 0s - loss: 12.9964 - mae: 12.9964 - 10ms/epoch - 5ms/step\n",
            "Epoch 83/100\n",
            "2/2 - 0s - loss: 7.9091 - mae: 7.9091 - 11ms/epoch - 5ms/step\n",
            "Epoch 84/100\n",
            "2/2 - 0s - loss: 7.6840 - mae: 7.6840 - 9ms/epoch - 5ms/step\n",
            "Epoch 85/100\n",
            "2/2 - 0s - loss: 10.0380 - mae: 10.0380 - 9ms/epoch - 5ms/step\n",
            "Epoch 86/100\n",
            "2/2 - 0s - loss: 9.2437 - mae: 9.2437 - 9ms/epoch - 4ms/step\n",
            "Epoch 87/100\n",
            "2/2 - 0s - loss: 12.0297 - mae: 12.0297 - 9ms/epoch - 4ms/step\n",
            "Epoch 88/100\n",
            "2/2 - 0s - loss: 10.6477 - mae: 10.6477 - 9ms/epoch - 5ms/step\n",
            "Epoch 89/100\n",
            "2/2 - 0s - loss: 7.2589 - mae: 7.2589 - 9ms/epoch - 4ms/step\n",
            "Epoch 90/100\n",
            "2/2 - 0s - loss: 12.7896 - mae: 12.7896 - 8ms/epoch - 4ms/step\n",
            "Epoch 91/100\n",
            "2/2 - 0s - loss: 7.4680 - mae: 7.4680 - 9ms/epoch - 5ms/step\n",
            "Epoch 92/100\n",
            "2/2 - 0s - loss: 6.7440 - mae: 6.7440 - 9ms/epoch - 5ms/step\n",
            "Epoch 93/100\n",
            "2/2 - 0s - loss: 11.9394 - mae: 11.9394 - 9ms/epoch - 4ms/step\n",
            "Epoch 94/100\n",
            "2/2 - 0s - loss: 8.8710 - mae: 8.8710 - 9ms/epoch - 4ms/step\n",
            "Epoch 95/100\n",
            "2/2 - 0s - loss: 7.7101 - mae: 7.7101 - 9ms/epoch - 4ms/step\n",
            "Epoch 96/100\n",
            "2/2 - 0s - loss: 6.7413 - mae: 6.7413 - 9ms/epoch - 5ms/step\n",
            "Epoch 97/100\n",
            "2/2 - 0s - loss: 8.6218 - mae: 8.6218 - 11ms/epoch - 6ms/step\n",
            "Epoch 98/100\n",
            "2/2 - 0s - loss: 9.3857 - mae: 9.3857 - 10ms/epoch - 5ms/step\n",
            "Epoch 99/100\n",
            "2/2 - 0s - loss: 9.1214 - mae: 9.1214 - 12ms/epoch - 6ms/step\n",
            "Epoch 100/100\n",
            "2/2 - 0s - loss: 10.4787 - mae: 10.4787 - 12ms/epoch - 6ms/step\n"
          ]
        },
        {
          "output_type": "execute_result",
          "data": {
            "text/plain": [
              "<keras.src.callbacks.History at 0x7ad9422731c0>"
            ]
          },
          "metadata": {},
          "execution_count": 59
        }
      ]
    },
    {
      "cell_type": "code",
      "source": [
        "from tensorflow.keras.utils import plot_model\n",
        "plot_model(model=model)"
      ],
      "metadata": {
        "colab": {
          "base_uri": "https://localhost:8080/",
          "height": 174
        },
        "id": "15NOzpzMJS5G",
        "outputId": "a58fd4f4-eed9-4cb5-85df-8db49a517773"
      },
      "execution_count": null,
      "outputs": [
        {
          "output_type": "execute_result",
          "data": {
            "image/png": "[encoded data removed]",
            "text/plain": [
              "<IPython.core.display.Image object>"
            ]
          },
          "metadata": {},
          "execution_count": 60
        }
      ]
    },
    {
      "cell_type": "markdown",
      "source": [
        "### Visualizing the Predictions\n"
      ],
      "metadata": {
        "id": "jvEEBztc0MbQ"
      }
    },
    {
      "cell_type": "code",
      "source": [
        "#make predictions\n",
        "y_pred = model.predict(X_test)\n"
      ],
      "metadata": {
        "colab": {
          "base_uri": "https://localhost:8080/"
        },
        "id": "LwqZYaQszB6A",
        "outputId": "3e5f1ab1-2a3e-4b8a-b444-59259181ab74"
      },
      "execution_count": null,
      "outputs": [
        {
          "output_type": "stream",
          "name": "stderr",
          "text": [
            "WARNING:tensorflow:5 out of the last 5 calls to <function Model.make_predict_function.<locals>.predict_function at 0x7ad942242440> triggered tf.function retracing. Tracing is expensive and the excessive number of tracings could be due to (1) creating @tf.function repeatedly in a loop, (2) passing tensors with different shapes, (3) passing Python objects instead of tensors. For (1), please define your @tf.function outside of the loop. For (2), @tf.function has reduce_retracing=True option that can avoid unnecessary retracing. For (3), please refer to https://www.tensorflow.org/guide/function#controlling_retracing and https://www.tensorflow.org/api_docs/python/tf/function for  more details.\n"
          ]
        },
        {
          "output_type": "stream",
          "name": "stdout",
          "text": [
            "1/1 [==============================] - 0s 64ms/step\n"
          ]
        }
      ]
    },
    {
      "cell_type": "code",
      "source": [
        "y_pred"
      ],
      "metadata": {
        "colab": {
          "base_uri": "https://localhost:8080/"
        },
        "id": "c5aTnUNC0g6D",
        "outputId": "d846e915-eaeb-4564-c8d4-4871bb7f5456"
      },
      "execution_count": null,
      "outputs": [
        {
          "output_type": "execute_result",
          "data": {
            "text/plain": [
              "array([[56.55604 ],\n",
              "       [60.239155],\n",
              "       [63.922268],\n",
              "       [67.60538 ],\n",
              "       [71.28848 ],\n",
              "       [74.971596],\n",
              "       [78.65471 ],\n",
              "       [82.337814],\n",
              "       [86.02093 ],\n",
              "       [89.70404 ]], dtype=float32)"
            ]
          },
          "metadata": {},
          "execution_count": 62
        }
      ]
    },
    {
      "cell_type": "code",
      "source": [
        "#we made a function for plotting the graph\n",
        "def plot_predictions(train_data=X_train,\n",
        "                     train_labels=y_train,\n",
        "                     test_data= X_test,\n",
        "                     test_labels= y_test,\n",
        "                     predictions= y_pred):\n",
        "  plt.figure(figsize=(10,7))\n",
        "  # plt training data in blue\n",
        "  plt.scatter(train_data,train_labels,c=\"b\",label=\"training data\")\n",
        "  # plt test data in green\n",
        "  plt.scatter(test_data,test_labels,c=\"g\",label=\"testing data\")\n",
        "  #plt predictions in red(predictions are made on testing data)\n",
        "\n",
        "  plt.scatter(test_data,predictions, c=\"r\",label=\"Predicted data\")\n",
        "  plt.legend();\n",
        "\n"
      ],
      "metadata": {
        "id": "0MRHdLpE0i7l"
      },
      "execution_count": null,
      "outputs": []
    },
    {
      "cell_type": "code",
      "source": [
        "y_test.shape,y_pred.shape"
      ],
      "metadata": {
        "colab": {
          "base_uri": "https://localhost:8080/"
        },
        "id": "RoX5ygamjTgN",
        "outputId": "cd72c969-5434-4a10-be22-007074ba61d2"
      },
      "execution_count": null,
      "outputs": [
        {
          "output_type": "execute_result",
          "data": {
            "text/plain": [
              "((10,), (10, 1))"
            ]
          },
          "metadata": {},
          "execution_count": 64
        }
      ]
    },
    {
      "cell_type": "code",
      "source": [
        "y_pred.squeeze().shape"
      ],
      "metadata": {
        "colab": {
          "base_uri": "https://localhost:8080/"
        },
        "id": "d37AZHOijoTr",
        "outputId": "4fdbf5f3-7d25-4c3a-c90b-ea85ca06c76b"
      },
      "execution_count": null,
      "outputs": [
        {
          "output_type": "execute_result",
          "data": {
            "text/plain": [
              "(10,)"
            ]
          },
          "metadata": {},
          "execution_count": 65
        }
      ]
    },
    {
      "cell_type": "code",
      "source": [
        "plot_predictions(train_data= X_train,\n",
        "                 train_labels= y_train,\n",
        "                 test_data = X_test,\n",
        "                 test_labels= y_test,\n",
        "                 predictions = y_pred\n",
        "                )"
      ],
      "metadata": {
        "colab": {
          "base_uri": "https://localhost:8080/",
          "height": 599
        },
        "id": "F2dv4bDU11sm",
        "outputId": "7d7c8424-f901-470e-857b-62bf8698284e"
      },
      "execution_count": null,
      "outputs": [
        {
          "output_type": "display_data",
          "data": {
            "text/plain": [
              "<Figure size 1000x700 with 1 Axes>"
            ],
            "image/png": "[encoded data removed]"
          },
          "metadata": {}
        }
      ]
    },
    {
      "cell_type": "markdown",
      "source": [
        "### Evaluating Predictions\n"
      ],
      "metadata": {
        "id": "Bc7lQ9Gt2ng-"
      }
    },
    {
      "cell_type": "markdown",
      "source": [
        "### Two of the main metrics used for regression problems are:\n",
        "\n",
        "Mean absolute error (MAE) - the mean difference between each of the predictions.\n",
        "Mean squared error (MSE) - the squared mean difference between of the predictions (use if larger errors are more detrimental than smaller errors)."
      ],
      "metadata": {
        "id": "KzWnCYPpkyQK"
      }
    },
    {
      "cell_type": "code",
      "source": [
        "model.evaluate(X_test, y_test)"
      ],
      "metadata": {
        "colab": {
          "base_uri": "https://localhost:8080/"
        },
        "id": "OQjSpfat2iue",
        "outputId": "c5aafc74-e3bf-40fc-b4bf-90da4b848b35"
      },
      "execution_count": null,
      "outputs": [
        {
          "output_type": "stream",
          "name": "stdout",
          "text": [
            "1/1 [==============================] - 0s 130ms/step - loss: 14.8700 - mae: 14.8700\n"
          ]
        },
        {
          "output_type": "execute_result",
          "data": {
            "text/plain": [
              "[14.869958877563477, 14.869958877563477]"
            ]
          },
          "metadata": {},
          "execution_count": 67
        }
      ]
    },
    {
      "cell_type": "code",
      "source": [
        "#calculate mean absolute error\n",
        "mae= tf.metrics.mean_absolute_error(y_true=y_test,\n",
        "                                    y_pred= y_pred)\n",
        "mae"
      ],
      "metadata": {
        "colab": {
          "base_uri": "https://localhost:8080/"
        },
        "id": "RvyLmDrG25Z5",
        "outputId": "f90f7cf8-2e19-4d15-da71-ef7da4711db1"
      },
      "execution_count": null,
      "outputs": [
        {
          "output_type": "execute_result",
          "data": {
            "text/plain": [
              "<tf.Tensor: shape=(10,), dtype=float32, numpy=\n",
              "array([31.443958, 27.760845, 24.077732, 20.394623, 16.969213, 14.217043,\n",
              "       12.138117, 10.732437, 10.      , 10.      ], dtype=float32)>"
            ]
          },
          "metadata": {},
          "execution_count": 68
        }
      ]
    },
    {
      "cell_type": "code",
      "source": [
        "y_test"
      ],
      "metadata": {
        "colab": {
          "base_uri": "https://localhost:8080/"
        },
        "id": "hi0IXq2qi6YG",
        "outputId": "0c930ce3-8bdc-4c96-f777-2645f42e4ce0"
      },
      "execution_count": null,
      "outputs": [
        {
          "output_type": "execute_result",
          "data": {
            "text/plain": [
              "array([ 70,  74,  78,  82,  86,  90,  94,  98, 102, 106])"
            ]
          },
          "metadata": {},
          "execution_count": 69
        }
      ]
    },
    {
      "cell_type": "code",
      "source": [
        "y_pred"
      ],
      "metadata": {
        "colab": {
          "base_uri": "https://localhost:8080/"
        },
        "id": "d1Ea-WUtlR8C",
        "outputId": "c5aa4e1c-69ce-4ee5-9aaa-77de6f9cf2e6"
      },
      "execution_count": null,
      "outputs": [
        {
          "output_type": "execute_result",
          "data": {
            "text/plain": [
              "array([[56.55604 ],\n",
              "       [60.239155],\n",
              "       [63.922268],\n",
              "       [67.60538 ],\n",
              "       [71.28848 ],\n",
              "       [74.971596],\n",
              "       [78.65471 ],\n",
              "       [82.337814],\n",
              "       [86.02093 ],\n",
              "       [89.70404 ]], dtype=float32)"
            ]
          },
          "metadata": {},
          "execution_count": 70
        }
      ]
    },
    {
      "cell_type": "code",
      "source": [
        "y_pred.shape"
      ],
      "metadata": {
        "colab": {
          "base_uri": "https://localhost:8080/"
        },
        "id": "7Wv6Ed8mlW2K",
        "outputId": "d7a254b5-3e0a-4057-c3c5-dc2451098b27"
      },
      "execution_count": null,
      "outputs": [
        {
          "output_type": "execute_result",
          "data": {
            "text/plain": [
              "(10, 1)"
            ]
          },
          "metadata": {},
          "execution_count": 71
        }
      ]
    },
    {
      "cell_type": "code",
      "source": [
        "#lets fix the shapes for y_pred\n",
        "y_test, y_pred.squeeze()"
      ],
      "metadata": {
        "colab": {
          "base_uri": "https://localhost:8080/"
        },
        "id": "3gz5Wmfllgod",
        "outputId": "93d6f811-2a20-4de6-a386-09e7893cbd22"
      },
      "execution_count": null,
      "outputs": [
        {
          "output_type": "execute_result",
          "data": {
            "text/plain": [
              "(array([ 70,  74,  78,  82,  86,  90,  94,  98, 102, 106]),\n",
              " array([56.55604 , 60.239155, 63.922268, 67.60538 , 71.28848 , 74.971596,\n",
              "        78.65471 , 82.337814, 86.02093 , 89.70404 ], dtype=float32))"
            ]
          },
          "metadata": {},
          "execution_count": 72
        }
      ]
    },
    {
      "cell_type": "code",
      "source": [
        "#Calculate MAE\n",
        "mae = tf.metrics.mean_absolute_error(y_true= y_test,\n",
        "                                     y_pred= y_pred.squeeze())\n",
        "mae"
      ],
      "metadata": {
        "colab": {
          "base_uri": "https://localhost:8080/"
        },
        "id": "QIh3qh1mloJC",
        "outputId": "e6811c99-43f3-43ca-92e6-6d30ea1ee4e4"
      },
      "execution_count": null,
      "outputs": [
        {
          "output_type": "execute_result",
          "data": {
            "text/plain": [
              "<tf.Tensor: shape=(), dtype=float32, numpy=14.869959>"
            ]
          },
          "metadata": {},
          "execution_count": 73
        }
      ]
    },
    {
      "cell_type": "code",
      "source": [
        "# Calculate MSE\n",
        "mse = tf.metrics.mean_squared_error(y_true = y_test,\n",
        "                                    y_pred = y_pred.squeeze())\n",
        "mse"
      ],
      "metadata": {
        "colab": {
          "base_uri": "https://localhost:8080/"
        },
        "id": "iHmfz6I-l5_J",
        "outputId": "8a9d4c15-d89b-4276-afed-c9d276bb602f"
      },
      "execution_count": null,
      "outputs": [
        {
          "output_type": "execute_result",
          "data": {
            "text/plain": [
              "<tf.Tensor: shape=(), dtype=float32, numpy=221.94414>"
            ]
          },
          "metadata": {},
          "execution_count": 74
        }
      ]
    },
    {
      "cell_type": "code",
      "source": [
        "# other way\n",
        "tf.reduce_mean(tf.abs(y_test-y_pred.squeeze()))"
      ],
      "metadata": {
        "colab": {
          "base_uri": "https://localhost:8080/"
        },
        "id": "wEx_Voy9mMGL",
        "outputId": "609f9eff-3af0-4079-8fea-89a54e483221"
      },
      "execution_count": null,
      "outputs": [
        {
          "output_type": "execute_result",
          "data": {
            "text/plain": [
              "<tf.Tensor: shape=(), dtype=float64, numpy=14.869958877563477>"
            ]
          },
          "metadata": {},
          "execution_count": 75
        }
      ]
    },
    {
      "cell_type": "code",
      "source": [
        "##lets create a function to calculate mae and mse\n",
        "\n",
        "def mae(y_test, y_pred):\n",
        "  return tf.metrics.mean_absolute_error(y_test,y_pred)\n",
        "\n",
        "def mse(y_test,y_pred):\n",
        "  return tf.metrics.mean_squared_error(y_test,y_pred)\n",
        "\n",
        "\n"
      ],
      "metadata": {
        "id": "uT4aKsilnDhD"
      },
      "execution_count": null,
      "outputs": []
    },
    {
      "cell_type": "markdown",
      "source": [
        "### Improving the model\n",
        "\n",
        "To do so, we'll build 3 models and compare their results:\n",
        "\n",
        "model_1 - same as original model, 1 layer, trained for 100 epochs.\n",
        "model_2 - 2 layers, trained for 100 epochs.\n",
        "model_3 - 2 layers, trained for 500 epochs."
      ],
      "metadata": {
        "id": "mXwFd0_enuxk"
      }
    },
    {
      "cell_type": "code",
      "source": [
        "## Model 1\n",
        "tf.random.set_seed(42)\n",
        "\n",
        "# create the model\n",
        "model_1= tf.keras.Sequential([\n",
        "    tf.keras.layers.Dense(1)\n",
        "])\n",
        "\n",
        "# compile the model\n",
        "model_1.compile(loss=tf.keras.losses.mae,\n",
        "                optimizer= tf.keras.optimizers.SGD(),\n",
        "                metrics=['mae'])\n",
        "\n",
        "# Fit the model\n",
        "model_1.fit(tf.expand_dims(X_train, axis= -1), y_train, epochs=100)\n",
        "\n",
        "\n",
        "\n"
      ],
      "metadata": {
        "colab": {
          "base_uri": "https://localhost:8080/"
        },
        "id": "pfKIq_1JnxCG",
        "outputId": "12cd82c8-1820-483b-e9e8-0d0ba38c6dc5"
      },
      "execution_count": null,
      "outputs": [
        {
          "output_type": "stream",
          "name": "stdout",
          "text": [
            "Epoch 1/100\n",
            "2/2 [==============================] - 0s 13ms/step - loss: 16.1326 - mae: 16.1326\n",
            "Epoch 2/100\n",
            "2/2 [==============================] - 0s 11ms/step - loss: 12.8284 - mae: 12.8284\n",
            "Epoch 3/100\n",
            "2/2 [==============================] - 0s 10ms/step - loss: 11.4486 - mae: 11.4486\n",
            "Epoch 4/100\n",
            "2/2 [==============================] - 0s 9ms/step - loss: 9.4634 - mae: 9.4634\n",
            "Epoch 5/100\n",
            "2/2 [==============================] - 0s 8ms/step - loss: 10.3579 - mae: 10.3579\n",
            "Epoch 6/100\n",
            "2/2 [==============================] - 0s 8ms/step - loss: 9.5970 - mae: 9.5970\n",
            "Epoch 7/100\n",
            "2/2 [==============================] - 0s 9ms/step - loss: 8.7091 - mae: 8.7091\n",
            "Epoch 8/100\n",
            "2/2 [==============================] - 0s 8ms/step - loss: 9.0517 - mae: 9.0517\n",
            "Epoch 9/100\n",
            "2/2 [==============================] - 0s 9ms/step - loss: 19.1072 - mae: 19.1072\n",
            "Epoch 10/100\n",
            "2/2 [==============================] - 0s 8ms/step - loss: 10.3089 - mae: 10.3089\n",
            "Epoch 11/100\n",
            "2/2 [==============================] - 0s 9ms/step - loss: 8.4712 - mae: 8.4712\n",
            "Epoch 12/100\n",
            "2/2 [==============================] - 0s 8ms/step - loss: 10.8188 - mae: 10.8188\n",
            "Epoch 13/100\n",
            "2/2 [==============================] - 0s 10ms/step - loss: 9.8730 - mae: 9.8730\n",
            "Epoch 14/100\n",
            "2/2 [==============================] - 0s 10ms/step - loss: 12.0676 - mae: 12.0676\n",
            "Epoch 15/100\n",
            "2/2 [==============================] - 0s 13ms/step - loss: 12.4074 - mae: 12.4074\n",
            "Epoch 16/100\n",
            "2/2 [==============================] - 0s 16ms/step - loss: 8.4118 - mae: 8.4118\n",
            "Epoch 17/100\n",
            "2/2 [==============================] - 0s 9ms/step - loss: 13.3478 - mae: 13.3478\n",
            "Epoch 18/100\n",
            "2/2 [==============================] - 0s 10ms/step - loss: 11.1061 - mae: 11.1061\n",
            "Epoch 19/100\n",
            "2/2 [==============================] - 0s 9ms/step - loss: 18.4334 - mae: 18.4334\n",
            "Epoch 20/100\n",
            "2/2 [==============================] - 0s 10ms/step - loss: 15.1328 - mae: 15.1328\n",
            "Epoch 21/100\n",
            "2/2 [==============================] - 0s 13ms/step - loss: 11.0892 - mae: 11.0892\n",
            "Epoch 22/100\n",
            "2/2 [==============================] - 0s 10ms/step - loss: 8.2161 - mae: 8.2161\n",
            "Epoch 23/100\n",
            "2/2 [==============================] - 0s 12ms/step - loss: 9.4575 - mae: 9.4575\n",
            "Epoch 24/100\n",
            "2/2 [==============================] - 0s 10ms/step - loss: 7.6702 - mae: 7.6702\n",
            "Epoch 25/100\n",
            "2/2 [==============================] - 0s 10ms/step - loss: 13.0684 - mae: 13.0684\n",
            "Epoch 26/100\n",
            "2/2 [==============================] - 0s 12ms/step - loss: 16.5032 - mae: 16.5032\n",
            "Epoch 27/100\n",
            "2/2 [==============================] - 0s 10ms/step - loss: 13.2328 - mae: 13.2328\n",
            "Epoch 28/100\n",
            "2/2 [==============================] - 0s 9ms/step - loss: 14.3427 - mae: 14.3427\n",
            "Epoch 29/100\n",
            "2/2 [==============================] - 0s 9ms/step - loss: 10.0863 - mae: 10.0863\n",
            "Epoch 30/100\n",
            "2/2 [==============================] - 0s 9ms/step - loss: 16.4741 - mae: 16.4741\n",
            "Epoch 31/100\n",
            "2/2 [==============================] - 0s 9ms/step - loss: 23.5180 - mae: 23.5180\n",
            "Epoch 32/100\n",
            "2/2 [==============================] - 0s 8ms/step - loss: 7.3598 - mae: 7.3598\n",
            "Epoch 33/100\n",
            "2/2 [==============================] - 0s 9ms/step - loss: 9.8055 - mae: 9.8055\n",
            "Epoch 34/100\n",
            "2/2 [==============================] - 0s 8ms/step - loss: 12.2699 - mae: 12.2699\n",
            "Epoch 35/100\n",
            "2/2 [==============================] - 0s 8ms/step - loss: 11.1331 - mae: 11.1331\n",
            "Epoch 36/100\n",
            "2/2 [==============================] - 0s 8ms/step - loss: 13.3438 - mae: 13.3438\n",
            "Epoch 37/100\n",
            "2/2 [==============================] - 0s 9ms/step - loss: 9.4563 - mae: 9.4563\n",
            "Epoch 38/100\n",
            "2/2 [==============================] - 0s 9ms/step - loss: 10.1129 - mae: 10.1129\n",
            "Epoch 39/100\n",
            "2/2 [==============================] - 0s 10ms/step - loss: 10.1850 - mae: 10.1850\n",
            "Epoch 40/100\n",
            "2/2 [==============================] - 0s 8ms/step - loss: 10.9256 - mae: 10.9256\n",
            "Epoch 41/100\n",
            "2/2 [==============================] - 0s 11ms/step - loss: 7.9128 - mae: 7.9128\n",
            "Epoch 42/100\n",
            "2/2 [==============================] - 0s 8ms/step - loss: 10.0688 - mae: 10.0688\n",
            "Epoch 43/100\n",
            "2/2 [==============================] - 0s 8ms/step - loss: 8.6858 - mae: 8.6858\n",
            "Epoch 44/100\n",
            "2/2 [==============================] - 0s 8ms/step - loss: 12.1727 - mae: 12.1727\n",
            "Epoch 45/100\n",
            "2/2 [==============================] - 0s 8ms/step - loss: 13.8139 - mae: 13.8139\n",
            "Epoch 46/100\n",
            "2/2 [==============================] - 0s 9ms/step - loss: 8.4760 - mae: 8.4760\n",
            "Epoch 47/100\n",
            "2/2 [==============================] - 0s 13ms/step - loss: 9.1127 - mae: 9.1127\n",
            "Epoch 48/100\n",
            "2/2 [==============================] - 0s 11ms/step - loss: 10.5928 - mae: 10.5928\n",
            "Epoch 49/100\n",
            "2/2 [==============================] - 0s 15ms/step - loss: 7.7318 - mae: 7.7318\n",
            "Epoch 50/100\n",
            "2/2 [==============================] - 0s 8ms/step - loss: 9.5164 - mae: 9.5164\n",
            "Epoch 51/100\n",
            "2/2 [==============================] - 0s 8ms/step - loss: 9.1459 - mae: 9.1459\n",
            "Epoch 52/100\n",
            "2/2 [==============================] - 0s 8ms/step - loss: 16.3270 - mae: 16.3270\n",
            "Epoch 53/100\n",
            "2/2 [==============================] - 0s 8ms/step - loss: 14.1375 - mae: 14.1375\n",
            "Epoch 54/100\n",
            "2/2 [==============================] - 0s 8ms/step - loss: 21.1568 - mae: 21.1568\n",
            "Epoch 55/100\n",
            "2/2 [==============================] - 0s 8ms/step - loss: 16.3614 - mae: 16.3614\n",
            "Epoch 56/100\n",
            "2/2 [==============================] - 0s 10ms/step - loss: 9.9970 - mae: 9.9970\n",
            "Epoch 57/100\n",
            "2/2 [==============================] - 0s 11ms/step - loss: 9.9375 - mae: 9.9375\n",
            "Epoch 58/100\n",
            "2/2 [==============================] - 0s 8ms/step - loss: 9.1993 - mae: 9.1993\n",
            "Epoch 59/100\n",
            "2/2 [==============================] - 0s 10ms/step - loss: 8.4037 - mae: 8.4037\n",
            "Epoch 60/100\n",
            "2/2 [==============================] - 0s 17ms/step - loss: 9.4682 - mae: 9.4682\n",
            "Epoch 61/100\n",
            "2/2 [==============================] - 0s 11ms/step - loss: 11.4061 - mae: 11.4061\n",
            "Epoch 62/100\n",
            "2/2 [==============================] - 0s 9ms/step - loss: 11.7042 - mae: 11.7042\n",
            "Epoch 63/100\n",
            "2/2 [==============================] - 0s 9ms/step - loss: 7.0671 - mae: 7.0671\n",
            "Epoch 64/100\n",
            "2/2 [==============================] - 0s 9ms/step - loss: 16.9860 - mae: 16.9860\n",
            "Epoch 65/100\n",
            "2/2 [==============================] - 0s 8ms/step - loss: 12.4705 - mae: 12.4705\n",
            "Epoch 66/100\n",
            "2/2 [==============================] - 0s 9ms/step - loss: 13.0350 - mae: 13.0350\n",
            "Epoch 67/100\n",
            "2/2 [==============================] - 0s 7ms/step - loss: 8.0598 - mae: 8.0598\n",
            "Epoch 68/100\n",
            "2/2 [==============================] - 0s 9ms/step - loss: 10.1953 - mae: 10.1953\n",
            "Epoch 69/100\n",
            "2/2 [==============================] - 0s 8ms/step - loss: 12.3812 - mae: 12.3812\n",
            "Epoch 70/100\n",
            "2/2 [==============================] - 0s 9ms/step - loss: 9.0303 - mae: 9.0303\n",
            "Epoch 71/100\n",
            "2/2 [==============================] - 0s 10ms/step - loss: 10.0154 - mae: 10.0154\n",
            "Epoch 72/100\n",
            "2/2 [==============================] - 0s 9ms/step - loss: 10.0325 - mae: 10.0325\n",
            "Epoch 73/100\n",
            "2/2 [==============================] - 0s 10ms/step - loss: 12.5845 - mae: 12.5845\n",
            "Epoch 74/100\n",
            "2/2 [==============================] - 0s 10ms/step - loss: 10.3987 - mae: 10.3987\n",
            "Epoch 75/100\n",
            "2/2 [==============================] - 0s 8ms/step - loss: 9.7025 - mae: 9.7025\n",
            "Epoch 76/100\n",
            "2/2 [==============================] - 0s 8ms/step - loss: 11.1996 - mae: 11.1996\n",
            "Epoch 77/100\n",
            "2/2 [==============================] - 0s 9ms/step - loss: 8.3452 - mae: 8.3452\n",
            "Epoch 78/100\n",
            "2/2 [==============================] - 0s 8ms/step - loss: 9.0981 - mae: 9.0981\n",
            "Epoch 79/100\n",
            "2/2 [==============================] - 0s 7ms/step - loss: 19.5338 - mae: 19.5338\n",
            "Epoch 80/100\n",
            "2/2 [==============================] - 0s 7ms/step - loss: 14.8610 - mae: 14.8610\n",
            "Epoch 81/100\n",
            "2/2 [==============================] - 0s 8ms/step - loss: 9.0237 - mae: 9.0237\n",
            "Epoch 82/100\n",
            "2/2 [==============================] - 0s 8ms/step - loss: 12.9911 - mae: 12.9911\n",
            "Epoch 83/100\n",
            "2/2 [==============================] - 0s 8ms/step - loss: 7.9057 - mae: 7.9057\n",
            "Epoch 84/100\n",
            "2/2 [==============================] - 0s 7ms/step - loss: 7.6858 - mae: 7.6858\n",
            "Epoch 85/100\n",
            "2/2 [==============================] - 0s 7ms/step - loss: 10.0420 - mae: 10.0420\n",
            "Epoch 86/100\n",
            "2/2 [==============================] - 0s 9ms/step - loss: 9.2463 - mae: 9.2463\n",
            "Epoch 87/100\n",
            "2/2 [==============================] - 0s 7ms/step - loss: 12.0344 - mae: 12.0344\n",
            "Epoch 88/100\n",
            "2/2 [==============================] - 0s 8ms/step - loss: 10.6526 - mae: 10.6526\n",
            "Epoch 89/100\n",
            "2/2 [==============================] - 0s 7ms/step - loss: 7.2594 - mae: 7.2594\n",
            "Epoch 90/100\n",
            "2/2 [==============================] - 0s 8ms/step - loss: 12.7950 - mae: 12.7950\n",
            "Epoch 91/100\n",
            "2/2 [==============================] - 0s 7ms/step - loss: 7.4706 - mae: 7.4706\n",
            "Epoch 92/100\n",
            "2/2 [==============================] - 0s 10ms/step - loss: 6.7433 - mae: 6.7433\n",
            "Epoch 93/100\n",
            "2/2 [==============================] - 0s 7ms/step - loss: 11.9445 - mae: 11.9445\n",
            "Epoch 94/100\n",
            "2/2 [==============================] - 0s 7ms/step - loss: 8.8748 - mae: 8.8748\n",
            "Epoch 95/100\n",
            "2/2 [==============================] - 0s 7ms/step - loss: 7.7126 - mae: 7.7126\n",
            "Epoch 96/100\n",
            "2/2 [==============================] - 0s 8ms/step - loss: 6.7420 - mae: 6.7420\n",
            "Epoch 97/100\n",
            "2/2 [==============================] - 0s 9ms/step - loss: 8.6266 - mae: 8.6266\n",
            "Epoch 98/100\n",
            "2/2 [==============================] - 0s 7ms/step - loss: 9.3830 - mae: 9.3830\n",
            "Epoch 99/100\n",
            "2/2 [==============================] - 0s 11ms/step - loss: 9.1192 - mae: 9.1192\n",
            "Epoch 100/100\n",
            "2/2 [==============================] - 0s 8ms/step - loss: 10.4752 - mae: 10.4752\n"
          ]
        },
        {
          "output_type": "execute_result",
          "data": {
            "text/plain": [
              "<keras.src.callbacks.History at 0x7ad94254b4c0>"
            ]
          },
          "metadata": {},
          "execution_count": 77
        }
      ]
    },
    {
      "cell_type": "code",
      "source": [
        "# predictions\n",
        "y_preds_1 = model_1.predict(X_test)\n",
        "plot_predictions(predictions=y_preds_1)"
      ],
      "metadata": {
        "id": "56AV4zU9pQvI",
        "colab": {
          "base_uri": "https://localhost:8080/",
          "height": 616
        },
        "outputId": "fc27625e-25b3-4462-bac6-10bdaffc1b55"
      },
      "execution_count": null,
      "outputs": [
        {
          "output_type": "stream",
          "name": "stdout",
          "text": [
            "1/1 [==============================] - 0s 20ms/step\n"
          ]
        },
        {
          "output_type": "display_data",
          "data": {
            "text/plain": [
              "<Figure size 1000x700 with 1 Axes>"
            ],
            "image/png": "[encoded data removed]"
          },
          "metadata": {}
        }
      ]
    },
    {
      "cell_type": "code",
      "source": [
        "# Calculate model_1 metrics\n",
        "mae_1 = mae(y_test, y_preds_1.squeeze()).numpy()\n",
        "mse_1 = mse(y_test, y_preds_1.squeeze()).numpy()\n",
        "mae_1, mse_1\n"
      ],
      "metadata": {
        "colab": {
          "base_uri": "https://localhost:8080/"
        },
        "id": "r6y0F2xfnpbY",
        "outputId": "b8c20497-7a15-4226-f5e6-eff1eb92d5b4"
      },
      "execution_count": null,
      "outputs": [
        {
          "output_type": "execute_result",
          "data": {
            "text/plain": [
              "(14.885839, 222.42097)"
            ]
          },
          "metadata": {},
          "execution_count": 86
        }
      ]
    },
    {
      "cell_type": "code",
      "source": [
        "##model 2\n",
        "tf.random.set_seed(42)\n",
        "\n",
        "model_2= tf.keras.Sequential([\n",
        "    tf.keras.layers.Dense(1),\n",
        "    tf.keras.layers.Dense(1) #add a second layer\n",
        "])\n",
        "\n",
        "# compile a model\n",
        "model_2.compile(loss=tf.keras.losses.mae,\n",
        "                optimizer= tf.keras.optimizers.SGD(),\n",
        "                metrics=['mae'])\n",
        "\n",
        "# fit the model\n",
        "model_2.fit(tf.expand_dims(X_train, axis=-1),y_train, epochs=100, verbose=1)\n",
        "\n"
      ],
      "metadata": {
        "colab": {
          "base_uri": "https://localhost:8080/"
        },
        "id": "N-qpSE95otyZ",
        "outputId": "39d4283c-3895-4885-b886-ffca4b9a8141"
      },
      "execution_count": null,
      "outputs": [
        {
          "output_type": "stream",
          "name": "stdout",
          "text": [
            "Epoch 1/100\n",
            "2/2 [==============================] - 0s 14ms/step - loss: 39.7570 - mae: 39.7570\n",
            "Epoch 2/100\n",
            "2/2 [==============================] - 0s 7ms/step - loss: 24.6266 - mae: 24.6266\n",
            "Epoch 3/100\n",
            "2/2 [==============================] - 0s 8ms/step - loss: 15.0186 - mae: 15.0186\n",
            "Epoch 4/100\n",
            "2/2 [==============================] - 0s 7ms/step - loss: 14.9812 - mae: 14.9812\n",
            "Epoch 5/100\n",
            "2/2 [==============================] - 0s 7ms/step - loss: 14.4146 - mae: 14.4146\n",
            "Epoch 6/100\n",
            "2/2 [==============================] - 0s 7ms/step - loss: 11.4688 - mae: 11.4688\n",
            "Epoch 7/100\n",
            "2/2 [==============================] - 0s 8ms/step - loss: 10.7983 - mae: 10.7983\n",
            "Epoch 8/100\n",
            "2/2 [==============================] - 0s 7ms/step - loss: 10.9038 - mae: 10.9038\n",
            "Epoch 9/100\n",
            "2/2 [==============================] - 0s 7ms/step - loss: 38.4549 - mae: 38.4549\n",
            "Epoch 10/100\n",
            "2/2 [==============================] - 0s 8ms/step - loss: 25.9694 - mae: 25.9694\n",
            "Epoch 11/100\n",
            "2/2 [==============================] - 0s 7ms/step - loss: 9.3808 - mae: 9.3808\n",
            "Epoch 12/100\n",
            "2/2 [==============================] - 0s 8ms/step - loss: 26.2773 - mae: 26.2773\n",
            "Epoch 13/100\n",
            "2/2 [==============================] - 0s 7ms/step - loss: 14.3711 - mae: 14.3711\n",
            "Epoch 14/100\n",
            "2/2 [==============================] - 0s 8ms/step - loss: 29.6227 - mae: 29.6227\n",
            "Epoch 15/100\n",
            "2/2 [==============================] - 0s 11ms/step - loss: 19.5349 - mae: 19.5349\n",
            "Epoch 16/100\n",
            "2/2 [==============================] - 0s 8ms/step - loss: 9.7905 - mae: 9.7905\n",
            "Epoch 17/100\n",
            "2/2 [==============================] - 0s 7ms/step - loss: 17.5231 - mae: 17.5231\n",
            "Epoch 18/100\n",
            "2/2 [==============================] - 0s 7ms/step - loss: 13.9971 - mae: 13.9971\n",
            "Epoch 19/100\n",
            "2/2 [==============================] - 0s 7ms/step - loss: 13.8314 - mae: 13.8314\n",
            "Epoch 20/100\n",
            "2/2 [==============================] - 0s 7ms/step - loss: 11.1527 - mae: 11.1527\n",
            "Epoch 21/100\n",
            "2/2 [==============================] - 0s 7ms/step - loss: 17.1384 - mae: 17.1384\n",
            "Epoch 22/100\n",
            "2/2 [==============================] - 0s 8ms/step - loss: 15.3764 - mae: 15.3764\n",
            "Epoch 23/100\n",
            "2/2 [==============================] - 0s 7ms/step - loss: 9.2525 - mae: 9.2525\n",
            "Epoch 24/100\n",
            "2/2 [==============================] - 0s 7ms/step - loss: 17.3235 - mae: 17.3235\n",
            "Epoch 25/100\n",
            "2/2 [==============================] - 0s 11ms/step - loss: 15.9813 - mae: 15.9813\n",
            "Epoch 26/100\n",
            "2/2 [==============================] - 0s 7ms/step - loss: 21.0296 - mae: 21.0296\n",
            "Epoch 27/100\n",
            "2/2 [==============================] - 0s 8ms/step - loss: 25.7438 - mae: 25.7438\n",
            "Epoch 28/100\n",
            "2/2 [==============================] - 0s 8ms/step - loss: 18.2706 - mae: 18.2706\n",
            "Epoch 29/100\n",
            "2/2 [==============================] - 0s 8ms/step - loss: 9.2397 - mae: 9.2397\n",
            "Epoch 30/100\n",
            "2/2 [==============================] - 0s 7ms/step - loss: 28.8693 - mae: 28.8693\n",
            "Epoch 31/100\n",
            "2/2 [==============================] - 0s 7ms/step - loss: 52.2639 - mae: 52.2639\n",
            "Epoch 32/100\n",
            "2/2 [==============================] - 0s 7ms/step - loss: 11.8432 - mae: 11.8432\n",
            "Epoch 33/100\n",
            "2/2 [==============================] - 0s 7ms/step - loss: 15.3765 - mae: 15.3765\n",
            "Epoch 34/100\n",
            "2/2 [==============================] - 0s 7ms/step - loss: 12.5127 - mae: 12.5127\n",
            "Epoch 35/100\n",
            "2/2 [==============================] - 0s 7ms/step - loss: 9.1591 - mae: 9.1591\n",
            "Epoch 36/100\n",
            "2/2 [==============================] - 0s 7ms/step - loss: 16.3232 - mae: 16.3232\n",
            "Epoch 37/100\n",
            "2/2 [==============================] - 0s 7ms/step - loss: 11.1282 - mae: 11.1282\n",
            "Epoch 38/100\n",
            "2/2 [==============================] - 0s 7ms/step - loss: 18.2620 - mae: 18.2620\n",
            "Epoch 39/100\n",
            "2/2 [==============================] - 0s 7ms/step - loss: 19.1891 - mae: 19.1891\n",
            "Epoch 40/100\n",
            "2/2 [==============================] - 0s 7ms/step - loss: 20.5926 - mae: 20.5926\n",
            "Epoch 41/100\n",
            "2/2 [==============================] - 0s 7ms/step - loss: 14.7091 - mae: 14.7091\n",
            "Epoch 42/100\n",
            "2/2 [==============================] - 0s 7ms/step - loss: 12.1285 - mae: 12.1285\n",
            "Epoch 43/100\n",
            "2/2 [==============================] - 0s 8ms/step - loss: 10.6642 - mae: 10.6642\n",
            "Epoch 44/100\n",
            "2/2 [==============================] - 0s 8ms/step - loss: 32.0070 - mae: 32.0070\n",
            "Epoch 45/100\n",
            "2/2 [==============================] - 0s 8ms/step - loss: 12.3973 - mae: 12.3973\n",
            "Epoch 46/100\n",
            "2/2 [==============================] - 0s 7ms/step - loss: 17.3118 - mae: 17.3118\n",
            "Epoch 47/100\n",
            "2/2 [==============================] - 0s 7ms/step - loss: 15.8319 - mae: 15.8319\n",
            "Epoch 48/100\n",
            "2/2 [==============================] - 0s 8ms/step - loss: 8.8032 - mae: 8.8032\n",
            "Epoch 49/100\n",
            "2/2 [==============================] - 0s 7ms/step - loss: 13.0165 - mae: 13.0165\n",
            "Epoch 50/100\n",
            "2/2 [==============================] - 0s 7ms/step - loss: 12.6109 - mae: 12.6109\n",
            "Epoch 51/100\n",
            "2/2 [==============================] - 0s 10ms/step - loss: 14.6753 - mae: 14.6753\n",
            "Epoch 52/100\n",
            "2/2 [==============================] - 0s 7ms/step - loss: 18.5939 - mae: 18.5939\n",
            "Epoch 53/100\n",
            "2/2 [==============================] - 0s 7ms/step - loss: 23.8782 - mae: 23.8782\n",
            "Epoch 54/100\n",
            "2/2 [==============================] - 0s 7ms/step - loss: 24.0979 - mae: 24.0979\n",
            "Epoch 55/100\n",
            "2/2 [==============================] - 0s 7ms/step - loss: 23.3337 - mae: 23.3337\n",
            "Epoch 56/100\n",
            "2/2 [==============================] - 0s 8ms/step - loss: 10.9371 - mae: 10.9371\n",
            "Epoch 57/100\n",
            "2/2 [==============================] - 0s 7ms/step - loss: 12.8110 - mae: 12.8110\n",
            "Epoch 58/100\n",
            "2/2 [==============================] - 0s 7ms/step - loss: 9.6392 - mae: 9.6392\n",
            "Epoch 59/100\n",
            "2/2 [==============================] - 0s 8ms/step - loss: 12.5738 - mae: 12.5738\n",
            "Epoch 60/100\n",
            "2/2 [==============================] - 0s 7ms/step - loss: 12.3733 - mae: 12.3733\n",
            "Epoch 61/100\n",
            "2/2 [==============================] - 0s 8ms/step - loss: 13.2709 - mae: 13.2709\n",
            "Epoch 62/100\n",
            "2/2 [==============================] - 0s 7ms/step - loss: 17.1140 - mae: 17.1140\n",
            "Epoch 63/100\n",
            "2/2 [==============================] - 0s 7ms/step - loss: 9.0732 - mae: 9.0732\n",
            "Epoch 64/100\n",
            "2/2 [==============================] - 0s 7ms/step - loss: 17.7528 - mae: 17.7528\n",
            "Epoch 65/100\n",
            "2/2 [==============================] - 0s 7ms/step - loss: 10.5466 - mae: 10.5466\n",
            "Epoch 66/100\n",
            "2/2 [==============================] - 0s 7ms/step - loss: 21.2338 - mae: 21.2338\n",
            "Epoch 67/100\n",
            "2/2 [==============================] - 0s 7ms/step - loss: 10.5420 - mae: 10.5420\n",
            "Epoch 68/100\n",
            "2/2 [==============================] - 0s 7ms/step - loss: 14.3876 - mae: 14.3876\n",
            "Epoch 69/100\n",
            "2/2 [==============================] - 0s 8ms/step - loss: 10.6303 - mae: 10.6303\n",
            "Epoch 70/100\n",
            "2/2 [==============================] - 0s 8ms/step - loss: 12.7148 - mae: 12.7148\n",
            "Epoch 71/100\n",
            "2/2 [==============================] - 0s 8ms/step - loss: 13.1400 - mae: 13.1400\n",
            "Epoch 72/100\n",
            "2/2 [==============================] - 0s 9ms/step - loss: 19.6308 - mae: 19.6308\n",
            "Epoch 73/100\n",
            "2/2 [==============================] - 0s 8ms/step - loss: 11.2048 - mae: 11.2048\n",
            "Epoch 74/100\n",
            "2/2 [==============================] - 0s 9ms/step - loss: 21.8999 - mae: 21.8999\n",
            "Epoch 75/100\n",
            "2/2 [==============================] - 0s 9ms/step - loss: 7.2060 - mae: 7.2060\n",
            "Epoch 76/100\n",
            "2/2 [==============================] - 0s 8ms/step - loss: 9.4260 - mae: 9.4260\n",
            "Epoch 77/100\n",
            "2/2 [==============================] - 0s 9ms/step - loss: 22.0600 - mae: 22.0600\n",
            "Epoch 78/100\n",
            "2/2 [==============================] - 0s 8ms/step - loss: 17.6809 - mae: 17.6809\n",
            "Epoch 79/100\n",
            "2/2 [==============================] - 0s 8ms/step - loss: 14.8541 - mae: 14.8541\n",
            "Epoch 80/100\n",
            "2/2 [==============================] - 0s 8ms/step - loss: 25.1558 - mae: 25.1558\n",
            "Epoch 81/100\n",
            "2/2 [==============================] - 0s 9ms/step - loss: 10.9262 - mae: 10.9262\n",
            "Epoch 82/100\n",
            "2/2 [==============================] - 0s 7ms/step - loss: 12.7553 - mae: 12.7553\n",
            "Epoch 83/100\n",
            "2/2 [==============================] - 0s 6ms/step - loss: 17.5314 - mae: 17.5314\n",
            "Epoch 84/100\n",
            "2/2 [==============================] - 0s 7ms/step - loss: 7.2972 - mae: 7.2972\n",
            "Epoch 85/100\n",
            "2/2 [==============================] - 0s 8ms/step - loss: 15.0534 - mae: 15.0534\n",
            "Epoch 86/100\n",
            "2/2 [==============================] - 0s 7ms/step - loss: 15.3590 - mae: 15.3590\n",
            "Epoch 87/100\n",
            "2/2 [==============================] - 0s 6ms/step - loss: 19.2499 - mae: 19.2499\n",
            "Epoch 88/100\n",
            "2/2 [==============================] - 0s 7ms/step - loss: 29.4582 - mae: 29.4582\n",
            "Epoch 89/100\n",
            "2/2 [==============================] - 0s 7ms/step - loss: 10.1354 - mae: 10.1354\n",
            "Epoch 90/100\n",
            "2/2 [==============================] - 0s 8ms/step - loss: 21.2169 - mae: 21.2169\n",
            "Epoch 91/100\n",
            "2/2 [==============================] - 0s 8ms/step - loss: 10.5109 - mae: 10.5109\n",
            "Epoch 92/100\n",
            "2/2 [==============================] - 0s 8ms/step - loss: 18.1166 - mae: 18.1166\n",
            "Epoch 93/100\n",
            "2/2 [==============================] - 0s 8ms/step - loss: 6.5553 - mae: 6.5553\n",
            "Epoch 94/100\n",
            "2/2 [==============================] - 0s 8ms/step - loss: 11.1657 - mae: 11.1657\n",
            "Epoch 95/100\n",
            "2/2 [==============================] - 0s 8ms/step - loss: 24.5324 - mae: 24.5324\n",
            "Epoch 96/100\n",
            "2/2 [==============================] - 0s 8ms/step - loss: 10.7732 - mae: 10.7732\n",
            "Epoch 97/100\n",
            "2/2 [==============================] - 0s 8ms/step - loss: 15.4645 - mae: 15.4645\n",
            "Epoch 98/100\n",
            "2/2 [==============================] - 0s 8ms/step - loss: 9.0391 - mae: 9.0391\n",
            "Epoch 99/100\n",
            "2/2 [==============================] - 0s 7ms/step - loss: 10.8598 - mae: 10.8598\n",
            "Epoch 100/100\n",
            "2/2 [==============================] - 0s 7ms/step - loss: 27.0325 - mae: 27.0325\n"
          ]
        },
        {
          "output_type": "execute_result",
          "data": {
            "text/plain": [
              "<keras.src.callbacks.History at 0x7ad9335e5a20>"
            ]
          },
          "metadata": {},
          "execution_count": 88
        }
      ]
    },
    {
      "cell_type": "code",
      "source": [
        "# predictions\n",
        "y_preds_2 = model_2.predict(X_test)\n",
        "plot_predictions(predictions=y_preds_2)"
      ],
      "metadata": {
        "colab": {
          "base_uri": "https://localhost:8080/",
          "height": 616
        },
        "id": "oo-XtDHHuNLE",
        "outputId": "05631328-e45e-4fc0-b837-fb19563b4b53"
      },
      "execution_count": null,
      "outputs": [
        {
          "output_type": "stream",
          "name": "stdout",
          "text": [
            "1/1 [==============================] - 0s 118ms/step\n"
          ]
        },
        {
          "output_type": "display_data",
          "data": {
            "text/plain": [
              "<Figure size 1000x700 with 1 Axes>"
            ],
            "image/png": "[encoded data removed]"
          },
          "metadata": {}
        }
      ]
    },
    {
      "cell_type": "code",
      "source": [
        "# Calculate model_2 metrics\n",
        "mae_2 = mae(y_test, y_preds_2.squeeze()).numpy()\n",
        "mse_2 = mse(y_test, y_preds_2.squeeze()).numpy()\n",
        "mae_2, mse_2"
      ],
      "metadata": {
        "colab": {
          "base_uri": "https://localhost:8080/"
        },
        "id": "SVd1iqtAuZUr",
        "outputId": "1b3b5698-46ce-4764-b81c-52082d016d9e"
      },
      "execution_count": null,
      "outputs": [
        {
          "output_type": "execute_result",
          "data": {
            "text/plain": [
              "(9.9487095, 106.177536)"
            ]
          },
          "metadata": {},
          "execution_count": 90
        }
      ]
    },
    {
      "cell_type": "code",
      "source": [
        "#Build model 3\n",
        "tf.random.set_seed(42)\n",
        "\n",
        "model_3= tf.keras.Sequential([\n",
        "    tf.keras.layers.Dense(1),\n",
        "    tf.keras.layers.Dense(1) #add a second layer\n",
        "])\n",
        "\n",
        "# compile a model\n",
        "model_3.compile(loss=tf.keras.losses.mae,\n",
        "                optimizer= tf.keras.optimizers.SGD(),\n",
        "                metrics=['mae'])\n",
        "\n",
        "# fit the model\n",
        "model_3.fit(tf.expand_dims(X_train, axis=-1),y_train, epochs=500, verbose=1)\n"
      ],
      "metadata": {
        "colab": {
          "base_uri": "https://localhost:8080/"
        },
        "id": "gouGrVOsuxYc",
        "outputId": "8c6eb852-5196-40df-821e-389582a437a7"
      },
      "execution_count": null,
      "outputs": [
        {
          "output_type": "stream",
          "name": "stdout",
          "text": [
            "Epoch 1/500\n",
            "2/2 [==============================] - 0s 12ms/step - loss: 44.4457 - mae: 44.4457\n",
            "Epoch 2/500\n",
            "2/2 [==============================] - 0s 7ms/step - loss: 17.1841 - mae: 17.1841\n",
            "Epoch 3/500\n",
            "2/2 [==============================] - 0s 7ms/step - loss: 19.7950 - mae: 19.7950\n",
            "Epoch 4/500\n",
            "2/2 [==============================] - 0s 7ms/step - loss: 13.4475 - mae: 13.4475\n",
            "Epoch 5/500\n",
            "2/2 [==============================] - 0s 7ms/step - loss: 13.8501 - mae: 13.8501\n",
            "Epoch 6/500\n",
            "2/2 [==============================] - 0s 7ms/step - loss: 11.5358 - mae: 11.5358\n",
            "Epoch 7/500\n",
            "2/2 [==============================] - 0s 7ms/step - loss: 9.2812 - mae: 9.2812\n",
            "Epoch 8/500\n",
            "2/2 [==============================] - 0s 7ms/step - loss: 16.4808 - mae: 16.4808\n",
            "Epoch 9/500\n",
            "2/2 [==============================] - 0s 7ms/step - loss: 29.3577 - mae: 29.3577\n",
            "Epoch 10/500\n",
            "2/2 [==============================] - 0s 7ms/step - loss: 11.6571 - mae: 11.6571\n",
            "Epoch 11/500\n",
            "2/2 [==============================] - 0s 8ms/step - loss: 8.8877 - mae: 8.8877\n",
            "Epoch 12/500\n",
            "2/2 [==============================] - 0s 9ms/step - loss: 24.1806 - mae: 24.1806\n",
            "Epoch 13/500\n",
            "2/2 [==============================] - 0s 7ms/step - loss: 13.3326 - mae: 13.3326\n",
            "Epoch 14/500\n",
            "2/2 [==============================] - 0s 7ms/step - loss: 32.8762 - mae: 32.8762\n",
            "Epoch 15/500\n",
            "2/2 [==============================] - 0s 12ms/step - loss: 21.1722 - mae: 21.1722\n",
            "Epoch 16/500\n",
            "2/2 [==============================] - 0s 7ms/step - loss: 9.5928 - mae: 9.5928\n",
            "Epoch 17/500\n",
            "2/2 [==============================] - 0s 7ms/step - loss: 16.6110 - mae: 16.6110\n",
            "Epoch 18/500\n",
            "2/2 [==============================] - 0s 7ms/step - loss: 16.2898 - mae: 16.2898\n",
            "Epoch 19/500\n",
            "2/2 [==============================] - 0s 7ms/step - loss: 11.3229 - mae: 11.3229\n",
            "Epoch 20/500\n",
            "2/2 [==============================] - 0s 7ms/step - loss: 12.6319 - mae: 12.6319\n",
            "Epoch 21/500\n",
            "2/2 [==============================] - 0s 7ms/step - loss: 22.0462 - mae: 22.0462\n",
            "Epoch 22/500\n",
            "2/2 [==============================] - 0s 8ms/step - loss: 13.7079 - mae: 13.7079\n",
            "Epoch 23/500\n",
            "2/2 [==============================] - 0s 7ms/step - loss: 9.4992 - mae: 9.4992\n",
            "Epoch 24/500\n",
            "2/2 [==============================] - 0s 7ms/step - loss: 11.8491 - mae: 11.8491\n",
            "Epoch 25/500\n",
            "2/2 [==============================] - 0s 8ms/step - loss: 16.0368 - mae: 16.0368\n",
            "Epoch 26/500\n",
            "2/2 [==============================] - 0s 8ms/step - loss: 16.2410 - mae: 16.2410\n",
            "Epoch 27/500\n",
            "2/2 [==============================] - 0s 7ms/step - loss: 11.5566 - mae: 11.5566\n",
            "Epoch 28/500\n",
            "2/2 [==============================] - 0s 12ms/step - loss: 29.6261 - mae: 29.6261\n",
            "Epoch 29/500\n",
            "2/2 [==============================] - 0s 10ms/step - loss: 9.2725 - mae: 9.2725\n",
            "Epoch 30/500\n",
            "2/2 [==============================] - 0s 10ms/step - loss: 30.2389 - mae: 30.2389\n",
            "Epoch 31/500\n",
            "2/2 [==============================] - 0s 9ms/step - loss: 54.9322 - mae: 54.9322\n",
            "Epoch 32/500\n",
            "2/2 [==============================] - 0s 9ms/step - loss: 9.6840 - mae: 9.6840\n",
            "Epoch 33/500\n",
            "2/2 [==============================] - 0s 7ms/step - loss: 12.2899 - mae: 12.2899\n",
            "Epoch 34/500\n",
            "2/2 [==============================] - 0s 7ms/step - loss: 24.3477 - mae: 24.3477\n",
            "Epoch 35/500\n",
            "2/2 [==============================] - 0s 7ms/step - loss: 11.9799 - mae: 11.9799\n",
            "Epoch 36/500\n",
            "2/2 [==============================] - 0s 7ms/step - loss: 22.2464 - mae: 22.2464\n",
            "Epoch 37/500\n",
            "2/2 [==============================] - 0s 7ms/step - loss: 17.3326 - mae: 17.3326\n",
            "Epoch 38/500\n",
            "2/2 [==============================] - 0s 9ms/step - loss: 10.6597 - mae: 10.6597\n",
            "Epoch 39/500\n",
            "2/2 [==============================] - 0s 7ms/step - loss: 11.1745 - mae: 11.1745\n",
            "Epoch 40/500\n",
            "2/2 [==============================] - 0s 7ms/step - loss: 17.9220 - mae: 17.9220\n",
            "Epoch 41/500\n",
            "2/2 [==============================] - 0s 7ms/step - loss: 10.3832 - mae: 10.3832\n",
            "Epoch 42/500\n",
            "2/2 [==============================] - 0s 7ms/step - loss: 7.2852 - mae: 7.2852\n",
            "Epoch 43/500\n",
            "2/2 [==============================] - 0s 7ms/step - loss: 18.8805 - mae: 18.8805\n",
            "Epoch 44/500\n",
            "2/2 [==============================] - 0s 7ms/step - loss: 20.0182 - mae: 20.0182\n",
            "Epoch 45/500\n",
            "2/2 [==============================] - 0s 8ms/step - loss: 10.1036 - mae: 10.1036\n",
            "Epoch 46/500\n",
            "2/2 [==============================] - 0s 9ms/step - loss: 11.3493 - mae: 11.3493\n",
            "Epoch 47/500\n",
            "2/2 [==============================] - 0s 8ms/step - loss: 9.8440 - mae: 9.8440\n",
            "Epoch 48/500\n",
            "2/2 [==============================] - 0s 8ms/step - loss: 17.6553 - mae: 17.6553\n",
            "Epoch 49/500\n",
            "2/2 [==============================] - 0s 7ms/step - loss: 9.3145 - mae: 9.3145\n",
            "Epoch 50/500\n",
            "2/2 [==============================] - 0s 7ms/step - loss: 13.3393 - mae: 13.3393\n",
            "Epoch 51/500\n",
            "2/2 [==============================] - 0s 7ms/step - loss: 11.4255 - mae: 11.4255\n",
            "Epoch 52/500\n",
            "2/2 [==============================] - 0s 9ms/step - loss: 29.1312 - mae: 29.1312\n",
            "Epoch 53/500\n",
            "2/2 [==============================] - 0s 7ms/step - loss: 14.3934 - mae: 14.3934\n",
            "Epoch 54/500\n",
            "2/2 [==============================] - 0s 8ms/step - loss: 24.0236 - mae: 24.0236\n",
            "Epoch 55/500\n",
            "2/2 [==============================] - 0s 10ms/step - loss: 23.2557 - mae: 23.2557\n",
            "Epoch 56/500\n",
            "2/2 [==============================] - 0s 7ms/step - loss: 10.9254 - mae: 10.9254\n",
            "Epoch 57/500\n",
            "2/2 [==============================] - 0s 7ms/step - loss: 12.7885 - mae: 12.7885\n",
            "Epoch 58/500\n",
            "2/2 [==============================] - 0s 8ms/step - loss: 9.6312 - mae: 9.6312\n",
            "Epoch 59/500\n",
            "2/2 [==============================] - 0s 8ms/step - loss: 12.5495 - mae: 12.5495\n",
            "Epoch 60/500\n",
            "2/2 [==============================] - 0s 7ms/step - loss: 12.3485 - mae: 12.3485\n",
            "Epoch 61/500\n",
            "2/2 [==============================] - 0s 7ms/step - loss: 12.7153 - mae: 12.7153\n",
            "Epoch 62/500\n",
            "2/2 [==============================] - 0s 7ms/step - loss: 21.1422 - mae: 21.1422\n",
            "Epoch 63/500\n",
            "2/2 [==============================] - 0s 8ms/step - loss: 8.9403 - mae: 8.9403\n",
            "Epoch 64/500\n",
            "2/2 [==============================] - 0s 8ms/step - loss: 17.1640 - mae: 17.1640\n",
            "Epoch 65/500\n",
            "2/2 [==============================] - 0s 7ms/step - loss: 10.3812 - mae: 10.3812\n",
            "Epoch 66/500\n",
            "2/2 [==============================] - 0s 8ms/step - loss: 20.5227 - mae: 20.5227\n",
            "Epoch 67/500\n",
            "2/2 [==============================] - 0s 7ms/step - loss: 10.3284 - mae: 10.3284\n",
            "Epoch 68/500\n",
            "2/2 [==============================] - 0s 11ms/step - loss: 13.5757 - mae: 13.5757\n",
            "Epoch 69/500\n",
            "2/2 [==============================] - 0s 7ms/step - loss: 11.5061 - mae: 11.5061\n",
            "Epoch 70/500\n",
            "2/2 [==============================] - 0s 7ms/step - loss: 14.1181 - mae: 14.1181\n",
            "Epoch 71/500\n",
            "2/2 [==============================] - 0s 8ms/step - loss: 15.6655 - mae: 15.6655\n",
            "Epoch 72/500\n",
            "2/2 [==============================] - 0s 8ms/step - loss: 11.8810 - mae: 11.8810\n",
            "Epoch 73/500\n",
            "2/2 [==============================] - 0s 8ms/step - loss: 16.6581 - mae: 16.6581\n",
            "Epoch 74/500\n",
            "2/2 [==============================] - 0s 7ms/step - loss: 24.1829 - mae: 24.1829\n",
            "Epoch 75/500\n",
            "2/2 [==============================] - 0s 7ms/step - loss: 9.6531 - mae: 9.6531\n",
            "Epoch 76/500\n",
            "2/2 [==============================] - 0s 7ms/step - loss: 12.5058 - mae: 12.5058\n",
            "Epoch 77/500\n",
            "2/2 [==============================] - 0s 7ms/step - loss: 16.7375 - mae: 16.7375\n",
            "Epoch 78/500\n",
            "2/2 [==============================] - 0s 7ms/step - loss: 9.1007 - mae: 9.1007\n",
            "Epoch 79/500\n",
            "2/2 [==============================] - 0s 10ms/step - loss: 24.0515 - mae: 24.0515\n",
            "Epoch 80/500\n",
            "2/2 [==============================] - 0s 6ms/step - loss: 26.8492 - mae: 26.8492\n",
            "Epoch 81/500\n",
            "2/2 [==============================] - 0s 8ms/step - loss: 11.7447 - mae: 11.7447\n",
            "Epoch 82/500\n",
            "2/2 [==============================] - 0s 9ms/step - loss: 12.0093 - mae: 12.0093\n",
            "Epoch 83/500\n",
            "2/2 [==============================] - 0s 12ms/step - loss: 17.4050 - mae: 17.4050\n",
            "Epoch 84/500\n",
            "2/2 [==============================] - 0s 7ms/step - loss: 7.2848 - mae: 7.2848\n",
            "Epoch 85/500\n",
            "2/2 [==============================] - 0s 8ms/step - loss: 14.9613 - mae: 14.9613\n",
            "Epoch 86/500\n",
            "2/2 [==============================] - 0s 9ms/step - loss: 15.2868 - mae: 15.2868\n",
            "Epoch 87/500\n",
            "2/2 [==============================] - 0s 8ms/step - loss: 19.0984 - mae: 19.0984\n",
            "Epoch 88/500\n",
            "2/2 [==============================] - 0s 12ms/step - loss: 29.8597 - mae: 29.8597\n",
            "Epoch 89/500\n",
            "2/2 [==============================] - 0s 8ms/step - loss: 10.2060 - mae: 10.2060\n",
            "Epoch 90/500\n",
            "2/2 [==============================] - 0s 8ms/step - loss: 21.5428 - mae: 21.5428\n",
            "Epoch 91/500\n",
            "2/2 [==============================] - 0s 11ms/step - loss: 10.6001 - mae: 10.6001\n",
            "Epoch 92/500\n",
            "2/2 [==============================] - 0s 7ms/step - loss: 18.4075 - mae: 18.4075\n",
            "Epoch 93/500\n",
            "2/2 [==============================] - 0s 8ms/step - loss: 7.4370 - mae: 7.4370\n",
            "Epoch 94/500\n",
            "2/2 [==============================] - 0s 9ms/step - loss: 17.7379 - mae: 17.7379\n",
            "Epoch 95/500\n",
            "2/2 [==============================] - 0s 8ms/step - loss: 11.1334 - mae: 11.1334\n",
            "Epoch 96/500\n",
            "2/2 [==============================] - 0s 7ms/step - loss: 19.4310 - mae: 19.4310\n",
            "Epoch 97/500\n",
            "2/2 [==============================] - 0s 7ms/step - loss: 12.1728 - mae: 12.1728\n",
            "Epoch 98/500\n",
            "2/2 [==============================] - 0s 7ms/step - loss: 11.5779 - mae: 11.5779\n",
            "Epoch 99/500\n",
            "2/2 [==============================] - 0s 8ms/step - loss: 13.8759 - mae: 13.8759\n",
            "Epoch 100/500\n",
            "2/2 [==============================] - 0s 10ms/step - loss: 20.1885 - mae: 20.1885\n",
            "Epoch 101/500\n",
            "2/2 [==============================] - 0s 9ms/step - loss: 11.4555 - mae: 11.4555\n",
            "Epoch 102/500\n",
            "2/2 [==============================] - 0s 7ms/step - loss: 17.4462 - mae: 17.4462\n",
            "Epoch 103/500\n",
            "2/2 [==============================] - 0s 7ms/step - loss: 7.0398 - mae: 7.0398\n",
            "Epoch 104/500\n",
            "2/2 [==============================] - 0s 8ms/step - loss: 23.6167 - mae: 23.6167\n",
            "Epoch 105/500\n",
            "2/2 [==============================] - 0s 8ms/step - loss: 16.8183 - mae: 16.8183\n",
            "Epoch 106/500\n",
            "2/2 [==============================] - 0s 8ms/step - loss: 9.3180 - mae: 9.3180\n",
            "Epoch 107/500\n",
            "2/2 [==============================] - 0s 7ms/step - loss: 25.4148 - mae: 25.4148\n",
            "Epoch 108/500\n",
            "2/2 [==============================] - 0s 8ms/step - loss: 13.4015 - mae: 13.4015\n",
            "Epoch 109/500\n",
            "2/2 [==============================] - 0s 7ms/step - loss: 9.5085 - mae: 9.5085\n",
            "Epoch 110/500\n",
            "2/2 [==============================] - 0s 8ms/step - loss: 9.6612 - mae: 9.6612\n",
            "Epoch 111/500\n",
            "2/2 [==============================] - 0s 9ms/step - loss: 14.5397 - mae: 14.5397\n",
            "Epoch 112/500\n",
            "2/2 [==============================] - 0s 10ms/step - loss: 9.5620 - mae: 9.5620\n",
            "Epoch 113/500\n",
            "2/2 [==============================] - 0s 7ms/step - loss: 17.7018 - mae: 17.7018\n",
            "Epoch 114/500\n",
            "2/2 [==============================] - 0s 7ms/step - loss: 17.0738 - mae: 17.0738\n",
            "Epoch 115/500\n",
            "2/2 [==============================] - 0s 7ms/step - loss: 11.1026 - mae: 11.1026\n",
            "Epoch 116/500\n",
            "2/2 [==============================] - 0s 9ms/step - loss: 23.1536 - mae: 23.1536\n",
            "Epoch 117/500\n",
            "2/2 [==============================] - 0s 8ms/step - loss: 9.5864 - mae: 9.5864\n",
            "Epoch 118/500\n",
            "2/2 [==============================] - 0s 10ms/step - loss: 10.6497 - mae: 10.6497\n",
            "Epoch 119/500\n",
            "2/2 [==============================] - 0s 8ms/step - loss: 8.0500 - mae: 8.0500\n",
            "Epoch 120/500\n",
            "2/2 [==============================] - 0s 8ms/step - loss: 29.4547 - mae: 29.4547\n",
            "Epoch 121/500\n",
            "2/2 [==============================] - 0s 7ms/step - loss: 8.0859 - mae: 8.0859\n",
            "Epoch 122/500\n",
            "2/2 [==============================] - 0s 8ms/step - loss: 28.1095 - mae: 28.1095\n",
            "Epoch 123/500\n",
            "2/2 [==============================] - 0s 7ms/step - loss: 32.6538 - mae: 32.6538\n",
            "Epoch 124/500\n",
            "2/2 [==============================] - 0s 7ms/step - loss: 19.4489 - mae: 19.4489\n",
            "Epoch 125/500\n",
            "2/2 [==============================] - 0s 7ms/step - loss: 9.5608 - mae: 9.5608\n",
            "Epoch 126/500\n",
            "2/2 [==============================] - 0s 8ms/step - loss: 9.6276 - mae: 9.6276\n",
            "Epoch 127/500\n",
            "2/2 [==============================] - 0s 7ms/step - loss: 12.7749 - mae: 12.7749\n",
            "Epoch 128/500\n",
            "2/2 [==============================] - 0s 9ms/step - loss: 13.3225 - mae: 13.3225\n",
            "Epoch 129/500\n",
            "2/2 [==============================] - 0s 7ms/step - loss: 10.1837 - mae: 10.1837\n",
            "Epoch 130/500\n",
            "2/2 [==============================] - 0s 7ms/step - loss: 17.4608 - mae: 17.4608\n",
            "Epoch 131/500\n",
            "2/2 [==============================] - 0s 7ms/step - loss: 9.5063 - mae: 9.5063\n",
            "Epoch 132/500\n",
            "2/2 [==============================] - 0s 7ms/step - loss: 17.3492 - mae: 17.3492\n",
            "Epoch 133/500\n",
            "2/2 [==============================] - 0s 7ms/step - loss: 7.1066 - mae: 7.1066\n",
            "Epoch 134/500\n",
            "2/2 [==============================] - 0s 8ms/step - loss: 23.8636 - mae: 23.8636\n",
            "Epoch 135/500\n",
            "2/2 [==============================] - 0s 7ms/step - loss: 16.6146 - mae: 16.6146\n",
            "Epoch 136/500\n",
            "2/2 [==============================] - 0s 8ms/step - loss: 14.8368 - mae: 14.8368\n",
            "Epoch 137/500\n",
            "2/2 [==============================] - 0s 7ms/step - loss: 23.0822 - mae: 23.0822\n",
            "Epoch 138/500\n",
            "2/2 [==============================] - 0s 8ms/step - loss: 9.1144 - mae: 9.1144\n",
            "Epoch 139/500\n",
            "2/2 [==============================] - 0s 9ms/step - loss: 8.9081 - mae: 8.9081\n",
            "Epoch 140/500\n",
            "2/2 [==============================] - 0s 8ms/step - loss: 16.4044 - mae: 16.4044\n",
            "Epoch 141/500\n",
            "2/2 [==============================] - 0s 9ms/step - loss: 8.4311 - mae: 8.4311\n",
            "Epoch 142/500\n",
            "2/2 [==============================] - 0s 8ms/step - loss: 36.7964 - mae: 36.7964\n",
            "Epoch 143/500\n",
            "2/2 [==============================] - 0s 8ms/step - loss: 25.4631 - mae: 25.4631\n",
            "Epoch 144/500\n",
            "2/2 [==============================] - 0s 8ms/step - loss: 9.5554 - mae: 9.5554\n",
            "Epoch 145/500\n",
            "2/2 [==============================] - 0s 8ms/step - loss: 26.6456 - mae: 26.6456\n",
            "Epoch 146/500\n",
            "2/2 [==============================] - 0s 8ms/step - loss: 8.6835 - mae: 8.6835\n",
            "Epoch 147/500\n",
            "2/2 [==============================] - 0s 8ms/step - loss: 15.6605 - mae: 15.6605\n",
            "Epoch 148/500\n",
            "2/2 [==============================] - 0s 8ms/step - loss: 18.3617 - mae: 18.3617\n",
            "Epoch 149/500\n",
            "2/2 [==============================] - 0s 7ms/step - loss: 8.1683 - mae: 8.1683\n",
            "Epoch 150/500\n",
            "2/2 [==============================] - 0s 10ms/step - loss: 7.4934 - mae: 7.4934\n",
            "Epoch 151/500\n",
            "2/2 [==============================] - 0s 10ms/step - loss: 18.2207 - mae: 18.2207\n",
            "Epoch 152/500\n",
            "2/2 [==============================] - 0s 10ms/step - loss: 10.2720 - mae: 10.2720\n",
            "Epoch 153/500\n",
            "2/2 [==============================] - 0s 7ms/step - loss: 29.4507 - mae: 29.4507\n",
            "Epoch 154/500\n",
            "2/2 [==============================] - 0s 7ms/step - loss: 10.6004 - mae: 10.6004\n",
            "Epoch 155/500\n",
            "2/2 [==============================] - 0s 7ms/step - loss: 15.4944 - mae: 15.4944\n",
            "Epoch 156/500\n",
            "2/2 [==============================] - 0s 7ms/step - loss: 17.1028 - mae: 17.1028\n",
            "Epoch 157/500\n",
            "2/2 [==============================] - 0s 9ms/step - loss: 32.6017 - mae: 32.6017\n",
            "Epoch 158/500\n",
            "2/2 [==============================] - 0s 8ms/step - loss: 10.6532 - mae: 10.6532\n",
            "Epoch 159/500\n",
            "2/2 [==============================] - 0s 7ms/step - loss: 8.8881 - mae: 8.8881\n",
            "Epoch 160/500\n",
            "2/2 [==============================] - 0s 7ms/step - loss: 21.9681 - mae: 21.9681\n",
            "Epoch 161/500\n",
            "2/2 [==============================] - 0s 7ms/step - loss: 11.1190 - mae: 11.1190\n",
            "Epoch 162/500\n",
            "2/2 [==============================] - 0s 7ms/step - loss: 21.4966 - mae: 21.4966\n",
            "Epoch 163/500\n",
            "2/2 [==============================] - 0s 7ms/step - loss: 19.1771 - mae: 19.1771\n",
            "Epoch 164/500\n",
            "2/2 [==============================] - 0s 8ms/step - loss: 10.9771 - mae: 10.9771\n",
            "Epoch 165/500\n",
            "2/2 [==============================] - 0s 8ms/step - loss: 9.6374 - mae: 9.6374\n",
            "Epoch 166/500\n",
            "2/2 [==============================] - 0s 8ms/step - loss: 21.6358 - mae: 21.6358\n",
            "Epoch 167/500\n",
            "2/2 [==============================] - 0s 7ms/step - loss: 26.1780 - mae: 26.1780\n",
            "Epoch 168/500\n",
            "2/2 [==============================] - 0s 8ms/step - loss: 9.8427 - mae: 9.8427\n",
            "Epoch 169/500\n",
            "2/2 [==============================] - 0s 10ms/step - loss: 22.4494 - mae: 22.4494\n",
            "Epoch 170/500\n",
            "2/2 [==============================] - 0s 13ms/step - loss: 10.1740 - mae: 10.1740\n",
            "Epoch 171/500\n",
            "2/2 [==============================] - 0s 8ms/step - loss: 18.0981 - mae: 18.0981\n",
            "Epoch 172/500\n",
            "2/2 [==============================] - 0s 9ms/step - loss: 28.7147 - mae: 28.7147\n",
            "Epoch 173/500\n",
            "2/2 [==============================] - 0s 9ms/step - loss: 16.4342 - mae: 16.4342\n",
            "Epoch 174/500\n",
            "2/2 [==============================] - 0s 8ms/step - loss: 11.7327 - mae: 11.7327\n",
            "Epoch 175/500\n",
            "2/2 [==============================] - 0s 8ms/step - loss: 27.1687 - mae: 27.1687\n",
            "Epoch 176/500\n",
            "2/2 [==============================] - 0s 9ms/step - loss: 8.7576 - mae: 8.7576\n",
            "Epoch 177/500\n",
            "2/2 [==============================] - 0s 9ms/step - loss: 8.7734 - mae: 8.7734\n",
            "Epoch 178/500\n",
            "2/2 [==============================] - 0s 12ms/step - loss: 16.2137 - mae: 16.2137\n",
            "Epoch 179/500\n",
            "2/2 [==============================] - 0s 8ms/step - loss: 10.3942 - mae: 10.3942\n",
            "Epoch 180/500\n",
            "2/2 [==============================] - 0s 8ms/step - loss: 7.9924 - mae: 7.9924\n",
            "Epoch 181/500\n",
            "2/2 [==============================] - 0s 11ms/step - loss: 17.7881 - mae: 17.7881\n",
            "Epoch 182/500\n",
            "2/2 [==============================] - 0s 10ms/step - loss: 11.1974 - mae: 11.1974\n",
            "Epoch 183/500\n",
            "2/2 [==============================] - 0s 9ms/step - loss: 12.4085 - mae: 12.4085\n",
            "Epoch 184/500\n",
            "2/2 [==============================] - 0s 10ms/step - loss: 27.4071 - mae: 27.4071\n",
            "Epoch 185/500\n",
            "2/2 [==============================] - 0s 7ms/step - loss: 7.5551 - mae: 7.5551\n",
            "Epoch 186/500\n",
            "2/2 [==============================] - 0s 8ms/step - loss: 15.9332 - mae: 15.9332\n",
            "Epoch 187/500\n",
            "2/2 [==============================] - 0s 10ms/step - loss: 8.5929 - mae: 8.5929\n",
            "Epoch 188/500\n",
            "2/2 [==============================] - 0s 7ms/step - loss: 28.9159 - mae: 28.9159\n",
            "Epoch 189/500\n",
            "2/2 [==============================] - 0s 8ms/step - loss: 13.1372 - mae: 13.1372\n",
            "Epoch 190/500\n",
            "2/2 [==============================] - 0s 7ms/step - loss: 18.2757 - mae: 18.2757\n",
            "Epoch 191/500\n",
            "2/2 [==============================] - 0s 8ms/step - loss: 13.6975 - mae: 13.6975\n",
            "Epoch 192/500\n",
            "2/2 [==============================] - 0s 11ms/step - loss: 13.7004 - mae: 13.7004\n",
            "Epoch 193/500\n",
            "2/2 [==============================] - 0s 12ms/step - loss: 28.5497 - mae: 28.5497\n",
            "Epoch 194/500\n",
            "2/2 [==============================] - 0s 8ms/step - loss: 7.1226 - mae: 7.1226\n",
            "Epoch 195/500\n",
            "2/2 [==============================] - 0s 8ms/step - loss: 7.0656 - mae: 7.0656\n",
            "Epoch 196/500\n",
            "2/2 [==============================] - 0s 8ms/step - loss: 21.9629 - mae: 21.9629\n",
            "Epoch 197/500\n",
            "2/2 [==============================] - 0s 9ms/step - loss: 20.9377 - mae: 20.9377\n",
            "Epoch 198/500\n",
            "2/2 [==============================] - 0s 9ms/step - loss: 12.5301 - mae: 12.5301\n",
            "Epoch 199/500\n",
            "2/2 [==============================] - 0s 9ms/step - loss: 17.9895 - mae: 17.9895\n",
            "Epoch 200/500\n",
            "2/2 [==============================] - 0s 10ms/step - loss: 13.8241 - mae: 13.8241\n",
            "Epoch 201/500\n",
            "2/2 [==============================] - 0s 8ms/step - loss: 6.0455 - mae: 6.0455\n",
            "Epoch 202/500\n",
            "2/2 [==============================] - 0s 18ms/step - loss: 22.8246 - mae: 22.8246\n",
            "Epoch 203/500\n",
            "2/2 [==============================] - 0s 14ms/step - loss: 8.9546 - mae: 8.9546\n",
            "Epoch 204/500\n",
            "2/2 [==============================] - 0s 8ms/step - loss: 18.8039 - mae: 18.8039\n",
            "Epoch 205/500\n",
            "2/2 [==============================] - 0s 14ms/step - loss: 9.3544 - mae: 9.3544\n",
            "Epoch 206/500\n",
            "2/2 [==============================] - 0s 8ms/step - loss: 10.4237 - mae: 10.4237\n",
            "Epoch 207/500\n",
            "2/2 [==============================] - 0s 8ms/step - loss: 21.0729 - mae: 21.0729\n",
            "Epoch 208/500\n",
            "2/2 [==============================] - 0s 8ms/step - loss: 16.4510 - mae: 16.4510\n",
            "Epoch 209/500\n",
            "2/2 [==============================] - 0s 7ms/step - loss: 14.3502 - mae: 14.3502\n",
            "Epoch 210/500\n",
            "2/2 [==============================] - 0s 8ms/step - loss: 19.3516 - mae: 19.3516\n",
            "Epoch 211/500\n",
            "2/2 [==============================] - 0s 7ms/step - loss: 10.3053 - mae: 10.3053\n",
            "Epoch 212/500\n",
            "2/2 [==============================] - 0s 9ms/step - loss: 20.1237 - mae: 20.1237\n",
            "Epoch 213/500\n",
            "2/2 [==============================] - 0s 8ms/step - loss: 15.0811 - mae: 15.0811\n",
            "Epoch 214/500\n",
            "2/2 [==============================] - 0s 12ms/step - loss: 14.6172 - mae: 14.6172\n",
            "Epoch 215/500\n",
            "2/2 [==============================] - 0s 12ms/step - loss: 23.3511 - mae: 23.3511\n",
            "Epoch 216/500\n",
            "2/2 [==============================] - 0s 7ms/step - loss: 13.2860 - mae: 13.2860\n",
            "Epoch 217/500\n",
            "2/2 [==============================] - 0s 8ms/step - loss: 9.8101 - mae: 9.8101\n",
            "Epoch 218/500\n",
            "2/2 [==============================] - 0s 7ms/step - loss: 12.6126 - mae: 12.6126\n",
            "Epoch 219/500\n",
            "2/2 [==============================] - 0s 8ms/step - loss: 5.3488 - mae: 5.3488\n",
            "Epoch 220/500\n",
            "2/2 [==============================] - 0s 10ms/step - loss: 14.7032 - mae: 14.7032\n",
            "Epoch 221/500\n",
            "2/2 [==============================] - 0s 7ms/step - loss: 33.5473 - mae: 33.5473\n",
            "Epoch 222/500\n",
            "2/2 [==============================] - 0s 11ms/step - loss: 13.9083 - mae: 13.9083\n",
            "Epoch 223/500\n",
            "2/2 [==============================] - 0s 12ms/step - loss: 11.0041 - mae: 11.0041\n",
            "Epoch 224/500\n",
            "2/2 [==============================] - 0s 7ms/step - loss: 14.9594 - mae: 14.9594\n",
            "Epoch 225/500\n",
            "2/2 [==============================] - 0s 9ms/step - loss: 17.0089 - mae: 17.0089\n",
            "Epoch 226/500\n",
            "2/2 [==============================] - 0s 7ms/step - loss: 16.1969 - mae: 16.1969\n",
            "Epoch 227/500\n",
            "2/2 [==============================] - 0s 7ms/step - loss: 16.5186 - mae: 16.5186\n",
            "Epoch 228/500\n",
            "2/2 [==============================] - 0s 8ms/step - loss: 9.9547 - mae: 9.9547\n",
            "Epoch 229/500\n",
            "2/2 [==============================] - 0s 7ms/step - loss: 17.8552 - mae: 17.8552\n",
            "Epoch 230/500\n",
            "2/2 [==============================] - 0s 7ms/step - loss: 15.4737 - mae: 15.4737\n",
            "Epoch 231/500\n",
            "2/2 [==============================] - 0s 7ms/step - loss: 20.9091 - mae: 20.9091\n",
            "Epoch 232/500\n",
            "2/2 [==============================] - 0s 7ms/step - loss: 25.9498 - mae: 25.9498\n",
            "Epoch 233/500\n",
            "2/2 [==============================] - 0s 8ms/step - loss: 17.0270 - mae: 17.0270\n",
            "Epoch 234/500\n",
            "2/2 [==============================] - 0s 14ms/step - loss: 7.0423 - mae: 7.0423\n",
            "Epoch 235/500\n",
            "2/2 [==============================] - 0s 11ms/step - loss: 15.9948 - mae: 15.9948\n",
            "Epoch 236/500\n",
            "2/2 [==============================] - 0s 11ms/step - loss: 6.7892 - mae: 6.7892\n",
            "Epoch 237/500\n",
            "2/2 [==============================] - 0s 8ms/step - loss: 8.7360 - mae: 8.7360\n",
            "Epoch 238/500\n",
            "2/2 [==============================] - 0s 7ms/step - loss: 7.8433 - mae: 7.8433\n",
            "Epoch 239/500\n",
            "2/2 [==============================] - 0s 7ms/step - loss: 15.8916 - mae: 15.8916\n",
            "Epoch 240/500\n",
            "2/2 [==============================] - 0s 7ms/step - loss: 9.1182 - mae: 9.1182\n",
            "Epoch 241/500\n",
            "2/2 [==============================] - 0s 7ms/step - loss: 13.6134 - mae: 13.6134\n",
            "Epoch 242/500\n",
            "2/2 [==============================] - 0s 7ms/step - loss: 8.9806 - mae: 8.9806\n",
            "Epoch 243/500\n",
            "2/2 [==============================] - 0s 9ms/step - loss: 19.6048 - mae: 19.6048\n",
            "Epoch 244/500\n",
            "2/2 [==============================] - 0s 7ms/step - loss: 13.8041 - mae: 13.8041\n",
            "Epoch 245/500\n",
            "2/2 [==============================] - 0s 10ms/step - loss: 14.4683 - mae: 14.4683\n",
            "Epoch 246/500\n",
            "2/2 [==============================] - 0s 7ms/step - loss: 18.1246 - mae: 18.1246\n",
            "Epoch 247/500\n",
            "2/2 [==============================] - 0s 10ms/step - loss: 37.1983 - mae: 37.1983\n",
            "Epoch 248/500\n",
            "2/2 [==============================] - 0s 8ms/step - loss: 6.7738 - mae: 6.7738\n",
            "Epoch 249/500\n",
            "2/2 [==============================] - 0s 8ms/step - loss: 8.0053 - mae: 8.0053\n",
            "Epoch 250/500\n",
            "2/2 [==============================] - 0s 8ms/step - loss: 24.9289 - mae: 24.9289\n",
            "Epoch 251/500\n",
            "2/2 [==============================] - 0s 8ms/step - loss: 10.4372 - mae: 10.4372\n",
            "Epoch 252/500\n",
            "2/2 [==============================] - 0s 8ms/step - loss: 30.8370 - mae: 30.8370\n",
            "Epoch 253/500\n",
            "2/2 [==============================] - 0s 7ms/step - loss: 8.1524 - mae: 8.1524\n",
            "Epoch 254/500\n",
            "2/2 [==============================] - 0s 11ms/step - loss: 16.3059 - mae: 16.3059\n",
            "Epoch 255/500\n",
            "2/2 [==============================] - 0s 9ms/step - loss: 22.0580 - mae: 22.0580\n",
            "Epoch 256/500\n",
            "2/2 [==============================] - 0s 8ms/step - loss: 26.7887 - mae: 26.7887\n",
            "Epoch 257/500\n",
            "2/2 [==============================] - 0s 8ms/step - loss: 11.8697 - mae: 11.8697\n",
            "Epoch 258/500\n",
            "2/2 [==============================] - 0s 13ms/step - loss: 8.5056 - mae: 8.5056\n",
            "Epoch 259/500\n",
            "2/2 [==============================] - 0s 11ms/step - loss: 22.7929 - mae: 22.7929\n",
            "Epoch 260/500\n",
            "2/2 [==============================] - 0s 9ms/step - loss: 31.2449 - mae: 31.2449\n",
            "Epoch 261/500\n",
            "2/2 [==============================] - 0s 11ms/step - loss: 11.0850 - mae: 11.0850\n",
            "Epoch 262/500\n",
            "2/2 [==============================] - 0s 10ms/step - loss: 9.9543 - mae: 9.9543\n",
            "Epoch 263/500\n",
            "2/2 [==============================] - 0s 10ms/step - loss: 8.9089 - mae: 8.9089\n",
            "Epoch 264/500\n",
            "2/2 [==============================] - 0s 9ms/step - loss: 21.1953 - mae: 21.1953\n",
            "Epoch 265/500\n",
            "2/2 [==============================] - 0s 8ms/step - loss: 11.5586 - mae: 11.5586\n",
            "Epoch 266/500\n",
            "2/2 [==============================] - 0s 9ms/step - loss: 13.4130 - mae: 13.4130\n",
            "Epoch 267/500\n",
            "2/2 [==============================] - 0s 10ms/step - loss: 11.1528 - mae: 11.1528\n",
            "Epoch 268/500\n",
            "2/2 [==============================] - 0s 8ms/step - loss: 19.3103 - mae: 19.3103\n",
            "Epoch 269/500\n",
            "2/2 [==============================] - 0s 8ms/step - loss: 40.2397 - mae: 40.2397\n",
            "Epoch 270/500\n",
            "2/2 [==============================] - 0s 8ms/step - loss: 12.6886 - mae: 12.6886\n",
            "Epoch 271/500\n",
            "2/2 [==============================] - 0s 9ms/step - loss: 14.8164 - mae: 14.8164\n",
            "Epoch 272/500\n",
            "2/2 [==============================] - 0s 8ms/step - loss: 28.5994 - mae: 28.5994\n",
            "Epoch 273/500\n",
            "2/2 [==============================] - 0s 8ms/step - loss: 7.2946 - mae: 7.2946\n",
            "Epoch 274/500\n",
            "2/2 [==============================] - 0s 8ms/step - loss: 6.3765 - mae: 6.3765\n",
            "Epoch 275/500\n",
            "2/2 [==============================] - 0s 8ms/step - loss: 36.4350 - mae: 36.4350\n",
            "Epoch 276/500\n",
            "2/2 [==============================] - 0s 8ms/step - loss: 8.2665 - mae: 8.2665\n",
            "Epoch 277/500\n",
            "2/2 [==============================] - 0s 8ms/step - loss: 27.3285 - mae: 27.3285\n",
            "Epoch 278/500\n",
            "2/2 [==============================] - 0s 9ms/step - loss: 10.7682 - mae: 10.7682\n",
            "Epoch 279/500\n",
            "2/2 [==============================] - 0s 8ms/step - loss: 16.1821 - mae: 16.1821\n",
            "Epoch 280/500\n",
            "2/2 [==============================] - 0s 8ms/step - loss: 21.3849 - mae: 21.3849\n",
            "Epoch 281/500\n",
            "2/2 [==============================] - 0s 12ms/step - loss: 23.4359 - mae: 23.4359\n",
            "Epoch 282/500\n",
            "2/2 [==============================] - 0s 10ms/step - loss: 8.1803 - mae: 8.1803\n",
            "Epoch 283/500\n",
            "2/2 [==============================] - 0s 10ms/step - loss: 8.4058 - mae: 8.4058\n",
            "Epoch 284/500\n",
            "2/2 [==============================] - 0s 9ms/step - loss: 26.1613 - mae: 26.1613\n",
            "Epoch 285/500\n",
            "2/2 [==============================] - 0s 9ms/step - loss: 14.7990 - mae: 14.7990\n",
            "Epoch 286/500\n",
            "2/2 [==============================] - 0s 7ms/step - loss: 8.6748 - mae: 8.6748\n",
            "Epoch 287/500\n",
            "2/2 [==============================] - 0s 9ms/step - loss: 22.4893 - mae: 22.4893\n",
            "Epoch 288/500\n",
            "2/2 [==============================] - 0s 8ms/step - loss: 22.8762 - mae: 22.8762\n",
            "Epoch 289/500\n",
            "2/2 [==============================] - 0s 7ms/step - loss: 12.1942 - mae: 12.1942\n",
            "Epoch 290/500\n",
            "2/2 [==============================] - 0s 9ms/step - loss: 16.7534 - mae: 16.7534\n",
            "Epoch 291/500\n",
            "2/2 [==============================] - 0s 10ms/step - loss: 17.0860 - mae: 17.0860\n",
            "Epoch 292/500\n",
            "2/2 [==============================] - 0s 12ms/step - loss: 10.2453 - mae: 10.2453\n",
            "Epoch 293/500\n",
            "2/2 [==============================] - 0s 10ms/step - loss: 15.0141 - mae: 15.0141\n",
            "Epoch 294/500\n",
            "2/2 [==============================] - 0s 12ms/step - loss: 22.1771 - mae: 22.1771\n",
            "Epoch 295/500\n",
            "2/2 [==============================] - 0s 9ms/step - loss: 19.1372 - mae: 19.1372\n",
            "Epoch 296/500\n",
            "2/2 [==============================] - 0s 8ms/step - loss: 6.6957 - mae: 6.6957\n",
            "Epoch 297/500\n",
            "2/2 [==============================] - 0s 8ms/step - loss: 9.7317 - mae: 9.7317\n",
            "Epoch 298/500\n",
            "2/2 [==============================] - 0s 8ms/step - loss: 23.8792 - mae: 23.8792\n",
            "Epoch 299/500\n",
            "2/2 [==============================] - 0s 9ms/step - loss: 18.7219 - mae: 18.7219\n",
            "Epoch 300/500\n",
            "2/2 [==============================] - 0s 8ms/step - loss: 8.2905 - mae: 8.2905\n",
            "Epoch 301/500\n",
            "2/2 [==============================] - 0s 9ms/step - loss: 18.8291 - mae: 18.8291\n",
            "Epoch 302/500\n",
            "2/2 [==============================] - 0s 8ms/step - loss: 6.7894 - mae: 6.7894\n",
            "Epoch 303/500\n",
            "2/2 [==============================] - 0s 9ms/step - loss: 15.7585 - mae: 15.7585\n",
            "Epoch 304/500\n",
            "2/2 [==============================] - 0s 9ms/step - loss: 10.7146 - mae: 10.7146\n",
            "Epoch 305/500\n",
            "2/2 [==============================] - 0s 8ms/step - loss: 12.4256 - mae: 12.4256\n",
            "Epoch 306/500\n",
            "2/2 [==============================] - 0s 9ms/step - loss: 8.1875 - mae: 8.1875\n",
            "Epoch 307/500\n",
            "2/2 [==============================] - 0s 14ms/step - loss: 12.8761 - mae: 12.8761\n",
            "Epoch 308/500\n",
            "2/2 [==============================] - 0s 13ms/step - loss: 8.0469 - mae: 8.0469\n",
            "Epoch 309/500\n",
            "2/2 [==============================] - 0s 9ms/step - loss: 11.5127 - mae: 11.5127\n",
            "Epoch 310/500\n",
            "2/2 [==============================] - 0s 11ms/step - loss: 6.2462 - mae: 6.2462\n",
            "Epoch 311/500\n",
            "2/2 [==============================] - 0s 8ms/step - loss: 5.9225 - mae: 5.9225\n",
            "Epoch 312/500\n",
            "2/2 [==============================] - 0s 12ms/step - loss: 28.2947 - mae: 28.2947\n",
            "Epoch 313/500\n",
            "2/2 [==============================] - 0s 9ms/step - loss: 11.7895 - mae: 11.7895\n",
            "Epoch 314/500\n",
            "2/2 [==============================] - 0s 8ms/step - loss: 12.6099 - mae: 12.6099\n",
            "Epoch 315/500\n",
            "2/2 [==============================] - 0s 8ms/step - loss: 24.3615 - mae: 24.3615\n",
            "Epoch 316/500\n",
            "2/2 [==============================] - 0s 8ms/step - loss: 15.0622 - mae: 15.0622\n",
            "Epoch 317/500\n",
            "2/2 [==============================] - 0s 8ms/step - loss: 20.8531 - mae: 20.8531\n",
            "Epoch 318/500\n",
            "2/2 [==============================] - 0s 12ms/step - loss: 9.2556 - mae: 9.2556\n",
            "Epoch 319/500\n",
            "2/2 [==============================] - 0s 8ms/step - loss: 11.8470 - mae: 11.8470\n",
            "Epoch 320/500\n",
            "2/2 [==============================] - 0s 9ms/step - loss: 12.4822 - mae: 12.4822\n",
            "Epoch 321/500\n",
            "2/2 [==============================] - 0s 9ms/step - loss: 5.3779 - mae: 5.3779\n",
            "Epoch 322/500\n",
            "2/2 [==============================] - 0s 8ms/step - loss: 14.1947 - mae: 14.1947\n",
            "Epoch 323/500\n",
            "2/2 [==============================] - 0s 7ms/step - loss: 18.6040 - mae: 18.6040\n",
            "Epoch 324/500\n",
            "2/2 [==============================] - 0s 8ms/step - loss: 18.0720 - mae: 18.0720\n",
            "Epoch 325/500\n",
            "2/2 [==============================] - 0s 9ms/step - loss: 7.2474 - mae: 7.2474\n",
            "Epoch 326/500\n",
            "2/2 [==============================] - 0s 8ms/step - loss: 22.1022 - mae: 22.1022\n",
            "Epoch 327/500\n",
            "2/2 [==============================] - 0s 10ms/step - loss: 22.0592 - mae: 22.0592\n",
            "Epoch 328/500\n",
            "2/2 [==============================] - 0s 12ms/step - loss: 13.2795 - mae: 13.2795\n",
            "Epoch 329/500\n",
            "2/2 [==============================] - 0s 11ms/step - loss: 16.1855 - mae: 16.1855\n",
            "Epoch 330/500\n",
            "2/2 [==============================] - 0s 8ms/step - loss: 7.4223 - mae: 7.4223\n",
            "Epoch 331/500\n",
            "2/2 [==============================] - 0s 14ms/step - loss: 23.0661 - mae: 23.0661\n",
            "Epoch 332/500\n",
            "2/2 [==============================] - 0s 8ms/step - loss: 13.6785 - mae: 13.6785\n",
            "Epoch 333/500\n",
            "2/2 [==============================] - 0s 10ms/step - loss: 10.7507 - mae: 10.7507\n",
            "Epoch 334/500\n",
            "2/2 [==============================] - 0s 10ms/step - loss: 7.0246 - mae: 7.0246\n",
            "Epoch 335/500\n",
            "2/2 [==============================] - 0s 12ms/step - loss: 13.0157 - mae: 13.0157\n",
            "Epoch 336/500\n",
            "2/2 [==============================] - 0s 10ms/step - loss: 32.3551 - mae: 32.3551\n",
            "Epoch 337/500\n",
            "2/2 [==============================] - 0s 12ms/step - loss: 10.5968 - mae: 10.5968\n",
            "Epoch 338/500\n",
            "2/2 [==============================] - 0s 8ms/step - loss: 20.0225 - mae: 20.0225\n",
            "Epoch 339/500\n",
            "2/2 [==============================] - 0s 8ms/step - loss: 34.1305 - mae: 34.1305\n",
            "Epoch 340/500\n",
            "2/2 [==============================] - 0s 10ms/step - loss: 8.7349 - mae: 8.7349\n",
            "Epoch 341/500\n",
            "2/2 [==============================] - 0s 7ms/step - loss: 21.7690 - mae: 21.7690\n",
            "Epoch 342/500\n",
            "2/2 [==============================] - 0s 7ms/step - loss: 13.9066 - mae: 13.9066\n",
            "Epoch 343/500\n",
            "2/2 [==============================] - 0s 8ms/step - loss: 11.7681 - mae: 11.7681\n",
            "Epoch 344/500\n",
            "2/2 [==============================] - 0s 9ms/step - loss: 10.7383 - mae: 10.7383\n",
            "Epoch 345/500\n",
            "2/2 [==============================] - 0s 11ms/step - loss: 30.9502 - mae: 30.9502\n",
            "Epoch 346/500\n",
            "2/2 [==============================] - 0s 8ms/step - loss: 10.6853 - mae: 10.6853\n",
            "Epoch 347/500\n",
            "2/2 [==============================] - 0s 9ms/step - loss: 25.6383 - mae: 25.6383\n",
            "Epoch 348/500\n",
            "2/2 [==============================] - 0s 9ms/step - loss: 13.1281 - mae: 13.1281\n",
            "Epoch 349/500\n",
            "2/2 [==============================] - 0s 7ms/step - loss: 13.1180 - mae: 13.1180\n",
            "Epoch 350/500\n",
            "2/2 [==============================] - 0s 11ms/step - loss: 15.4416 - mae: 15.4416\n",
            "Epoch 351/500\n",
            "2/2 [==============================] - 0s 10ms/step - loss: 32.9168 - mae: 32.9168\n",
            "Epoch 352/500\n",
            "2/2 [==============================] - 0s 8ms/step - loss: 14.1647 - mae: 14.1647\n",
            "Epoch 353/500\n",
            "2/2 [==============================] - 0s 8ms/step - loss: 15.8890 - mae: 15.8890\n",
            "Epoch 354/500\n",
            "2/2 [==============================] - 0s 11ms/step - loss: 19.0166 - mae: 19.0166\n",
            "Epoch 355/500\n",
            "2/2 [==============================] - 0s 8ms/step - loss: 34.3320 - mae: 34.3320\n",
            "Epoch 356/500\n",
            "2/2 [==============================] - 0s 7ms/step - loss: 8.3456 - mae: 8.3456\n",
            "Epoch 357/500\n",
            "2/2 [==============================] - 0s 8ms/step - loss: 21.8215 - mae: 21.8215\n",
            "Epoch 358/500\n",
            "2/2 [==============================] - 0s 8ms/step - loss: 19.9740 - mae: 19.9740\n",
            "Epoch 359/500\n",
            "2/2 [==============================] - 0s 8ms/step - loss: 11.1024 - mae: 11.1024\n",
            "Epoch 360/500\n",
            "2/2 [==============================] - 0s 9ms/step - loss: 20.3227 - mae: 20.3227\n",
            "Epoch 361/500\n",
            "2/2 [==============================] - 0s 7ms/step - loss: 10.9741 - mae: 10.9741\n",
            "Epoch 362/500\n",
            "2/2 [==============================] - 0s 10ms/step - loss: 6.8757 - mae: 6.8757\n",
            "Epoch 363/500\n",
            "2/2 [==============================] - 0s 8ms/step - loss: 23.8697 - mae: 23.8697\n",
            "Epoch 364/500\n",
            "2/2 [==============================] - 0s 13ms/step - loss: 29.5981 - mae: 29.5981\n",
            "Epoch 365/500\n",
            "2/2 [==============================] - 0s 7ms/step - loss: 8.3572 - mae: 8.3572\n",
            "Epoch 366/500\n",
            "2/2 [==============================] - 0s 7ms/step - loss: 6.1563 - mae: 6.1563\n",
            "Epoch 367/500\n",
            "2/2 [==============================] - 0s 7ms/step - loss: 34.6219 - mae: 34.6219\n",
            "Epoch 368/500\n",
            "2/2 [==============================] - 0s 7ms/step - loss: 7.4154 - mae: 7.4154\n",
            "Epoch 369/500\n",
            "2/2 [==============================] - 0s 7ms/step - loss: 8.7536 - mae: 8.7536\n",
            "Epoch 370/500\n",
            "2/2 [==============================] - 0s 8ms/step - loss: 14.2790 - mae: 14.2790\n",
            "Epoch 371/500\n",
            "2/2 [==============================] - 0s 8ms/step - loss: 6.9006 - mae: 6.9006\n",
            "Epoch 372/500\n",
            "2/2 [==============================] - 0s 8ms/step - loss: 6.6032 - mae: 6.6032\n",
            "Epoch 373/500\n",
            "2/2 [==============================] - 0s 8ms/step - loss: 24.1609 - mae: 24.1609\n",
            "Epoch 374/500\n",
            "2/2 [==============================] - 0s 7ms/step - loss: 10.2431 - mae: 10.2431\n",
            "Epoch 375/500\n",
            "2/2 [==============================] - 0s 8ms/step - loss: 12.8613 - mae: 12.8613\n",
            "Epoch 376/500\n",
            "2/2 [==============================] - 0s 8ms/step - loss: 14.7305 - mae: 14.7305\n",
            "Epoch 377/500\n",
            "2/2 [==============================] - 0s 7ms/step - loss: 14.6789 - mae: 14.6789\n",
            "Epoch 378/500\n",
            "2/2 [==============================] - 0s 7ms/step - loss: 16.1997 - mae: 16.1997\n",
            "Epoch 379/500\n",
            "2/2 [==============================] - 0s 7ms/step - loss: 20.6363 - mae: 20.6363\n",
            "Epoch 380/500\n",
            "2/2 [==============================] - 0s 8ms/step - loss: 34.1131 - mae: 34.1131\n",
            "Epoch 381/500\n",
            "2/2 [==============================] - 0s 7ms/step - loss: 8.8686 - mae: 8.8686\n",
            "Epoch 382/500\n",
            "2/2 [==============================] - 0s 7ms/step - loss: 9.5858 - mae: 9.5858\n",
            "Epoch 383/500\n",
            "2/2 [==============================] - 0s 8ms/step - loss: 5.7755 - mae: 5.7755\n",
            "Epoch 384/500\n",
            "2/2 [==============================] - 0s 8ms/step - loss: 8.7627 - mae: 8.7627\n",
            "Epoch 385/500\n",
            "2/2 [==============================] - 0s 7ms/step - loss: 5.8160 - mae: 5.8160\n",
            "Epoch 386/500\n",
            "2/2 [==============================] - 0s 8ms/step - loss: 23.9338 - mae: 23.9338\n",
            "Epoch 387/500\n",
            "2/2 [==============================] - 0s 8ms/step - loss: 17.9728 - mae: 17.9728\n",
            "Epoch 388/500\n",
            "2/2 [==============================] - 0s 7ms/step - loss: 6.1398 - mae: 6.1398\n",
            "Epoch 389/500\n",
            "2/2 [==============================] - 0s 7ms/step - loss: 9.4477 - mae: 9.4477\n",
            "Epoch 390/500\n",
            "2/2 [==============================] - 0s 7ms/step - loss: 6.9235 - mae: 6.9235\n",
            "Epoch 391/500\n",
            "2/2 [==============================] - 0s 7ms/step - loss: 13.8143 - mae: 13.8143\n",
            "Epoch 392/500\n",
            "2/2 [==============================] - 0s 7ms/step - loss: 9.4770 - mae: 9.4770\n",
            "Epoch 393/500\n",
            "2/2 [==============================] - 0s 9ms/step - loss: 18.8189 - mae: 18.8189\n",
            "Epoch 394/500\n",
            "2/2 [==============================] - 0s 10ms/step - loss: 15.6782 - mae: 15.6782\n",
            "Epoch 395/500\n",
            "2/2 [==============================] - 0s 7ms/step - loss: 12.7506 - mae: 12.7506\n",
            "Epoch 396/500\n",
            "2/2 [==============================] - 0s 8ms/step - loss: 7.5717 - mae: 7.5717\n",
            "Epoch 397/500\n",
            "2/2 [==============================] - 0s 9ms/step - loss: 7.7724 - mae: 7.7724\n",
            "Epoch 398/500\n",
            "2/2 [==============================] - 0s 9ms/step - loss: 20.7146 - mae: 20.7146\n",
            "Epoch 399/500\n",
            "2/2 [==============================] - 0s 11ms/step - loss: 4.2591 - mae: 4.2591\n",
            "Epoch 400/500\n",
            "2/2 [==============================] - 0s 10ms/step - loss: 20.0025 - mae: 20.0025\n",
            "Epoch 401/500\n",
            "2/2 [==============================] - 0s 9ms/step - loss: 15.2261 - mae: 15.2261\n",
            "Epoch 402/500\n",
            "2/2 [==============================] - 0s 8ms/step - loss: 24.8365 - mae: 24.8365\n",
            "Epoch 403/500\n",
            "2/2 [==============================] - 0s 7ms/step - loss: 15.2911 - mae: 15.2911\n",
            "Epoch 404/500\n",
            "2/2 [==============================] - 0s 9ms/step - loss: 9.1389 - mae: 9.1389\n",
            "Epoch 405/500\n",
            "2/2 [==============================] - 0s 8ms/step - loss: 10.3824 - mae: 10.3824\n",
            "Epoch 406/500\n",
            "2/2 [==============================] - 0s 9ms/step - loss: 7.3616 - mae: 7.3616\n",
            "Epoch 407/500\n",
            "2/2 [==============================] - 0s 7ms/step - loss: 13.1788 - mae: 13.1788\n",
            "Epoch 408/500\n",
            "2/2 [==============================] - 0s 8ms/step - loss: 5.7860 - mae: 5.7860\n",
            "Epoch 409/500\n",
            "2/2 [==============================] - 0s 8ms/step - loss: 32.1800 - mae: 32.1800\n",
            "Epoch 410/500\n",
            "2/2 [==============================] - 0s 8ms/step - loss: 8.6909 - mae: 8.6909\n",
            "Epoch 411/500\n",
            "2/2 [==============================] - 0s 7ms/step - loss: 15.0920 - mae: 15.0920\n",
            "Epoch 412/500\n",
            "2/2 [==============================] - 0s 7ms/step - loss: 22.1163 - mae: 22.1163\n",
            "Epoch 413/500\n",
            "2/2 [==============================] - 0s 8ms/step - loss: 11.7527 - mae: 11.7527\n",
            "Epoch 414/500\n",
            "2/2 [==============================] - 0s 7ms/step - loss: 3.7004 - mae: 3.7004\n",
            "Epoch 415/500\n",
            "2/2 [==============================] - 0s 8ms/step - loss: 14.4679 - mae: 14.4679\n",
            "Epoch 416/500\n",
            "2/2 [==============================] - 0s 8ms/step - loss: 11.1509 - mae: 11.1509\n",
            "Epoch 417/500\n",
            "2/2 [==============================] - 0s 8ms/step - loss: 6.2722 - mae: 6.2722\n",
            "Epoch 418/500\n",
            "2/2 [==============================] - 0s 8ms/step - loss: 13.6438 - mae: 13.6438\n",
            "Epoch 419/500\n",
            "2/2 [==============================] - 0s 8ms/step - loss: 11.5801 - mae: 11.5801\n",
            "Epoch 420/500\n",
            "2/2 [==============================] - 0s 7ms/step - loss: 24.1260 - mae: 24.1260\n",
            "Epoch 421/500\n",
            "2/2 [==============================] - 0s 8ms/step - loss: 19.1482 - mae: 19.1482\n",
            "Epoch 422/500\n",
            "2/2 [==============================] - 0s 8ms/step - loss: 5.9441 - mae: 5.9441\n",
            "Epoch 423/500\n",
            "2/2 [==============================] - 0s 11ms/step - loss: 27.2596 - mae: 27.2596\n",
            "Epoch 424/500\n",
            "2/2 [==============================] - 0s 9ms/step - loss: 10.4884 - mae: 10.4884\n",
            "Epoch 425/500\n",
            "2/2 [==============================] - 0s 10ms/step - loss: 10.1148 - mae: 10.1148\n",
            "Epoch 426/500\n",
            "2/2 [==============================] - 0s 10ms/step - loss: 8.4193 - mae: 8.4193\n",
            "Epoch 427/500\n",
            "2/2 [==============================] - 0s 11ms/step - loss: 13.3519 - mae: 13.3519\n",
            "Epoch 428/500\n",
            "2/2 [==============================] - 0s 8ms/step - loss: 10.4715 - mae: 10.4715\n",
            "Epoch 429/500\n",
            "2/2 [==============================] - 0s 7ms/step - loss: 25.3051 - mae: 25.3051\n",
            "Epoch 430/500\n",
            "2/2 [==============================] - 0s 8ms/step - loss: 18.7564 - mae: 18.7564\n",
            "Epoch 431/500\n",
            "2/2 [==============================] - 0s 11ms/step - loss: 12.0965 - mae: 12.0965\n",
            "Epoch 432/500\n",
            "2/2 [==============================] - 0s 8ms/step - loss: 7.6316 - mae: 7.6316\n",
            "Epoch 433/500\n",
            "2/2 [==============================] - 0s 10ms/step - loss: 14.8650 - mae: 14.8650\n",
            "Epoch 434/500\n",
            "2/2 [==============================] - 0s 8ms/step - loss: 17.9976 - mae: 17.9976\n",
            "Epoch 435/500\n",
            "2/2 [==============================] - 0s 7ms/step - loss: 9.7153 - mae: 9.7153\n",
            "Epoch 436/500\n",
            "2/2 [==============================] - 0s 8ms/step - loss: 29.1011 - mae: 29.1011\n",
            "Epoch 437/500\n",
            "2/2 [==============================] - 0s 10ms/step - loss: 9.2650 - mae: 9.2650\n",
            "Epoch 438/500\n",
            "2/2 [==============================] - 0s 8ms/step - loss: 12.6928 - mae: 12.6928\n",
            "Epoch 439/500\n",
            "2/2 [==============================] - 0s 13ms/step - loss: 33.5425 - mae: 33.5425\n",
            "Epoch 440/500\n",
            "2/2 [==============================] - 0s 8ms/step - loss: 14.9106 - mae: 14.9106\n",
            "Epoch 441/500\n",
            "2/2 [==============================] - 0s 8ms/step - loss: 17.3435 - mae: 17.3435\n",
            "Epoch 442/500\n",
            "2/2 [==============================] - 0s 8ms/step - loss: 22.0116 - mae: 22.0116\n",
            "Epoch 443/500\n",
            "2/2 [==============================] - 0s 7ms/step - loss: 24.2838 - mae: 24.2838\n",
            "Epoch 444/500\n",
            "2/2 [==============================] - 0s 9ms/step - loss: 11.5649 - mae: 11.5649\n",
            "Epoch 445/500\n",
            "2/2 [==============================] - 0s 8ms/step - loss: 14.7521 - mae: 14.7521\n",
            "Epoch 446/500\n",
            "2/2 [==============================] - 0s 9ms/step - loss: 17.7584 - mae: 17.7584\n",
            "Epoch 447/500\n",
            "2/2 [==============================] - 0s 10ms/step - loss: 5.7003 - mae: 5.7003\n",
            "Epoch 448/500\n",
            "2/2 [==============================] - 0s 10ms/step - loss: 9.5067 - mae: 9.5067\n",
            "Epoch 449/500\n",
            "2/2 [==============================] - 0s 12ms/step - loss: 14.1695 - mae: 14.1695\n",
            "Epoch 450/500\n",
            "2/2 [==============================] - 0s 7ms/step - loss: 16.9362 - mae: 16.9362\n",
            "Epoch 451/500\n",
            "2/2 [==============================] - 0s 7ms/step - loss: 14.3590 - mae: 14.3590\n",
            "Epoch 452/500\n",
            "2/2 [==============================] - 0s 9ms/step - loss: 30.7615 - mae: 30.7615\n",
            "Epoch 453/500\n",
            "2/2 [==============================] - 0s 10ms/step - loss: 8.4173 - mae: 8.4173\n",
            "Epoch 454/500\n",
            "2/2 [==============================] - 0s 7ms/step - loss: 27.6822 - mae: 27.6822\n",
            "Epoch 455/500\n",
            "2/2 [==============================] - 0s 8ms/step - loss: 9.8590 - mae: 9.8590\n",
            "Epoch 456/500\n",
            "2/2 [==============================] - 0s 12ms/step - loss: 14.6211 - mae: 14.6211\n",
            "Epoch 457/500\n",
            "2/2 [==============================] - 0s 8ms/step - loss: 17.7815 - mae: 17.7815\n",
            "Epoch 458/500\n",
            "2/2 [==============================] - 0s 7ms/step - loss: 14.0597 - mae: 14.0597\n",
            "Epoch 459/500\n",
            "2/2 [==============================] - 0s 7ms/step - loss: 25.9920 - mae: 25.9920\n",
            "Epoch 460/500\n",
            "2/2 [==============================] - 0s 10ms/step - loss: 14.8089 - mae: 14.8089\n",
            "Epoch 461/500\n",
            "2/2 [==============================] - 0s 9ms/step - loss: 12.0122 - mae: 12.0122\n",
            "Epoch 462/500\n",
            "2/2 [==============================] - 0s 10ms/step - loss: 13.3043 - mae: 13.3043\n",
            "Epoch 463/500\n",
            "2/2 [==============================] - 0s 9ms/step - loss: 29.5234 - mae: 29.5234\n",
            "Epoch 464/500\n",
            "2/2 [==============================] - 0s 13ms/step - loss: 3.4653 - mae: 3.4653\n",
            "Epoch 465/500\n",
            "2/2 [==============================] - 0s 7ms/step - loss: 15.1903 - mae: 15.1903\n",
            "Epoch 466/500\n",
            "2/2 [==============================] - 0s 11ms/step - loss: 20.7815 - mae: 20.7815\n",
            "Epoch 467/500\n",
            "2/2 [==============================] - 0s 7ms/step - loss: 30.6530 - mae: 30.6530\n",
            "Epoch 468/500\n",
            "2/2 [==============================] - 0s 8ms/step - loss: 11.1235 - mae: 11.1235\n",
            "Epoch 469/500\n",
            "2/2 [==============================] - 0s 8ms/step - loss: 12.9201 - mae: 12.9201\n",
            "Epoch 470/500\n",
            "2/2 [==============================] - 0s 9ms/step - loss: 3.5667 - mae: 3.5667\n",
            "Epoch 471/500\n",
            "2/2 [==============================] - 0s 7ms/step - loss: 42.0954 - mae: 42.0954\n",
            "Epoch 472/500\n",
            "2/2 [==============================] - 0s 7ms/step - loss: 3.8908 - mae: 3.8908\n",
            "Epoch 473/500\n",
            "2/2 [==============================] - 0s 7ms/step - loss: 16.1487 - mae: 16.1487\n",
            "Epoch 474/500\n",
            "2/2 [==============================] - 0s 7ms/step - loss: 38.8974 - mae: 38.8974\n",
            "Epoch 475/500\n",
            "2/2 [==============================] - 0s 13ms/step - loss: 15.7694 - mae: 15.7694\n",
            "Epoch 476/500\n",
            "2/2 [==============================] - 0s 7ms/step - loss: 13.4833 - mae: 13.4833\n",
            "Epoch 477/500\n",
            "2/2 [==============================] - 0s 16ms/step - loss: 29.8477 - mae: 29.8477\n",
            "Epoch 478/500\n",
            "2/2 [==============================] - 0s 8ms/step - loss: 4.3449 - mae: 4.3449\n",
            "Epoch 479/500\n",
            "2/2 [==============================] - 0s 7ms/step - loss: 13.6397 - mae: 13.6397\n",
            "Epoch 480/500\n",
            "2/2 [==============================] - 0s 7ms/step - loss: 20.3274 - mae: 20.3274\n",
            "Epoch 481/500\n",
            "2/2 [==============================] - 0s 8ms/step - loss: 24.3429 - mae: 24.3429\n",
            "Epoch 482/500\n",
            "2/2 [==============================] - 0s 8ms/step - loss: 13.1755 - mae: 13.1755\n",
            "Epoch 483/500\n",
            "2/2 [==============================] - 0s 7ms/step - loss: 8.8429 - mae: 8.8429\n",
            "Epoch 484/500\n",
            "2/2 [==============================] - 0s 8ms/step - loss: 27.9914 - mae: 27.9914\n",
            "Epoch 485/500\n",
            "2/2 [==============================] - 0s 8ms/step - loss: 8.2639 - mae: 8.2639\n",
            "Epoch 486/500\n",
            "2/2 [==============================] - 0s 8ms/step - loss: 7.1375 - mae: 7.1375\n",
            "Epoch 487/500\n",
            "2/2 [==============================] - 0s 7ms/step - loss: 12.1883 - mae: 12.1883\n",
            "Epoch 488/500\n",
            "2/2 [==============================] - 0s 8ms/step - loss: 27.9163 - mae: 27.9163\n",
            "Epoch 489/500\n",
            "2/2 [==============================] - 0s 9ms/step - loss: 3.9444 - mae: 3.9444\n",
            "Epoch 490/500\n",
            "2/2 [==============================] - 0s 8ms/step - loss: 11.8013 - mae: 11.8013\n",
            "Epoch 491/500\n",
            "2/2 [==============================] - 0s 12ms/step - loss: 5.9295 - mae: 5.9295\n",
            "Epoch 492/500\n",
            "2/2 [==============================] - 0s 8ms/step - loss: 15.8110 - mae: 15.8110\n",
            "Epoch 493/500\n",
            "2/2 [==============================] - 0s 7ms/step - loss: 8.4312 - mae: 8.4312\n",
            "Epoch 494/500\n",
            "2/2 [==============================] - 0s 7ms/step - loss: 13.5598 - mae: 13.5598\n",
            "Epoch 495/500\n",
            "2/2 [==============================] - 0s 8ms/step - loss: 14.5696 - mae: 14.5696\n",
            "Epoch 496/500\n",
            "2/2 [==============================] - 0s 8ms/step - loss: 12.7829 - mae: 12.7829\n",
            "Epoch 497/500\n",
            "2/2 [==============================] - 0s 7ms/step - loss: 17.8125 - mae: 17.8125\n",
            "Epoch 498/500\n",
            "2/2 [==============================] - 0s 9ms/step - loss: 23.1270 - mae: 23.1270\n",
            "Epoch 499/500\n",
            "2/2 [==============================] - 0s 9ms/step - loss: 8.9240 - mae: 8.9240\n",
            "Epoch 500/500\n",
            "2/2 [==============================] - 0s 12ms/step - loss: 14.4038 - mae: 14.4038\n"
          ]
        },
        {
          "output_type": "execute_result",
          "data": {
            "text/plain": [
              "<keras.src.callbacks.History at 0x7ad933370e80>"
            ]
          },
          "metadata": {},
          "execution_count": 93
        }
      ]
    },
    {
      "cell_type": "code",
      "source": [
        "# predictions\n",
        "y_preds_3 = model_3.predict(X_test)\n",
        "plot_predictions(predictions=y_preds_3)"
      ],
      "metadata": {
        "colab": {
          "base_uri": "https://localhost:8080/",
          "height": 616
        },
        "id": "Wz37oQc_vElg",
        "outputId": "748aafcb-0fc1-45c6-b280-ec9fa99e7c56"
      },
      "execution_count": null,
      "outputs": [
        {
          "output_type": "stream",
          "name": "stdout",
          "text": [
            "1/1 [==============================] - 0s 53ms/step\n"
          ]
        },
        {
          "output_type": "display_data",
          "data": {
            "text/plain": [
              "<Figure size 1000x700 with 1 Axes>"
            ],
            "image/png": "[encoded data removed]"
          },
          "metadata": {}
        }
      ]
    },
    {
      "cell_type": "code",
      "source": [
        "# Calculate model_3 metrics\n",
        "mae_3 = mae(y_test, y_preds_3.squeeze()).numpy()\n",
        "mse_3 = mse(y_test, y_preds_3.squeeze()).numpy()\n",
        "mae_3, mse_3\n"
      ],
      "metadata": {
        "colab": {
          "base_uri": "https://localhost:8080/"
        },
        "id": "Gj-h3hXTvYmP",
        "outputId": "aba454b7-1f2e-49b6-bb99-cbaabcd2e2c8"
      },
      "execution_count": null,
      "outputs": [
        {
          "output_type": "execute_result",
          "data": {
            "text/plain": [
              "(67.97302, 4704.9204)"
            ]
          },
          "metadata": {},
          "execution_count": 95
        }
      ]
    },
    {
      "cell_type": "markdown",
      "source": [
        "### Comparing Results"
      ],
      "metadata": {
        "id": "c5QI1Mr6vcf1"
      }
    },
    {
      "cell_type": "code",
      "source": [
        "model_results = [[\"model_1\", mae_1, mse_1],\n",
        "                 [\"model_2\", mae_2, mse_2],\n",
        "                 [\"model_3\", mae_3, mae_3]]"
      ],
      "metadata": {
        "id": "ciFDDeuBvcBt"
      },
      "execution_count": null,
      "outputs": []
    },
    {
      "cell_type": "code",
      "source": [
        "import pandas as pd\n",
        "all_results = pd.DataFrame(model_results, columns=[\"model\", \"mae\", \"mse\"])\n",
        "all_results\n"
      ],
      "metadata": {
        "colab": {
          "base_uri": "https://localhost:8080/",
          "height": 143
        },
        "id": "8Epiu2CKvniz",
        "outputId": "354caa82-1618-4fa6-bf99-f86d649150c7"
      },
      "execution_count": null,
      "outputs": [
        {
          "output_type": "execute_result",
          "data": {
            "text/plain": [
              "     model        mae         mse\n",
              "0  model_1  14.885839  222.420975\n",
              "1  model_2   9.948709  106.177536\n",
              "2  model_3  67.973022   67.973022"
            ],
            "text/html": [
              "\n",
              "  <div id=\"df-13eaf90e-78f3-41fb-a3fa-f5767a62a578\" class=\"colab-df-container\">\n",
              "    <div>\n",
              "<style scoped>\n",
              "    .dataframe tbody tr th:only-of-type {\n",
              "        vertical-align: middle;\n",
              "    }\n",
              "\n",
              "    .dataframe tbody tr th {\n",
              "        vertical-align: top;\n",
              "    }\n",
              "\n",
              "    .dataframe thead th {\n",
              "        text-align: right;\n",
              "    }\n",
              "</style>\n",
              "<table border=\"1\" class=\"dataframe\">\n",
              "  <thead>\n",
              "    <tr style=\"text-align: right;\">\n",
              "      <th></th>\n",
              "      <th>model</th>\n",
              "      <th>mae</th>\n",
              "      <th>mse</th>\n",
              "    </tr>\n",
              "  </thead>\n",
              "  <tbody>\n",
              "    <tr>\n",
              "      <th>0</th>\n",
              "      <td>model_1</td>\n",
              "      <td>14.885839</td>\n",
              "      <td>222.420975</td>\n",
              "    </tr>\n",
              "    <tr>\n",
              "      <th>1</th>\n",
              "      <td>model_2</td>\n",
              "      <td>9.948709</td>\n",
              "      <td>106.177536</td>\n",
              "    </tr>\n",
              "    <tr>\n",
              "      <th>2</th>\n",
              "      <td>model_3</td>\n",
              "      <td>67.973022</td>\n",
              "      <td>67.973022</td>\n",
              "    </tr>\n",
              "  </tbody>\n",
              "</table>\n",
              "</div>\n",
              "    <div class=\"colab-df-buttons\">\n",
              "\n",
              "  <div class=\"colab-df-container\">\n",
              "    <button class=\"colab-df-convert\" onclick=\"convertToInteractive('df-13eaf90e-78f3-41fb-a3fa-f5767a62a578')\"\n",
              "            title=\"Convert this dataframe to an interactive table.\"\n",
              "            style=\"display:none;\">\n",
              "\n",
              "  <svg xmlns=\"http://www.w3.org/2000/svg\" height=\"24px\" viewBox=\"0 -960 960 960\">\n",
              "    <path d=\"M120-120v-720h720v720H120Zm60-500h600v-160H180v160Zm220 220h160v-160H400v160Zm0 220h160v-160H400v160ZM180-400h160v-160H180v160Zm440 0h160v-160H620v160ZM180-180h160v-160H180v160Zm440 0h160v-160H620v160Z\"/>\n",
              "  </svg>\n",
              "    </button>\n",
              "\n",
              "  <style>\n",
              "    .colab-df-container {\n",
              "      display:flex;\n",
              "      gap: 12px;\n",
              "    }\n",
              "\n",
              "    .colab-df-convert {\n",
              "      background-color: #E8F0FE;\n",
              "      border: none;\n",
              "      border-radius: 50%;\n",
              "      cursor: pointer;\n",
              "      display: none;\n",
              "      fill: #1967D2;\n",
              "      height: 32px;\n",
              "      padding: 0 0 0 0;\n",
              "      width: 32px;\n",
              "    }\n",
              "\n",
              "    .colab-df-convert:hover {\n",
              "      background-color: #E2EBFA;\n",
              "      box-shadow: 0px 1px 2px rgba(60, 64, 67, 0.3), 0px 1px 3px 1px rgba(60, 64, 67, 0.15);\n",
              "      fill: #174EA6;\n",
              "    }\n",
              "\n",
              "    .colab-df-buttons div {\n",
              "      margin-bottom: 4px;\n",
              "    }\n",
              "\n",
              "    [theme=dark] .colab-df-convert {\n",
              "      background-color: #3B4455;\n",
              "      fill: #D2E3FC;\n",
              "    }\n",
              "\n",
              "    [theme=dark] .colab-df-convert:hover {\n",
              "      background-color: #434B5C;\n",
              "      box-shadow: 0px 1px 3px 1px rgba(0, 0, 0, 0.15);\n",
              "      filter: drop-shadow(0px 1px 2px rgba(0, 0, 0, 0.3));\n",
              "      fill: #FFFFFF;\n",
              "    }\n",
              "  </style>\n",
              "\n",
              "    <script>\n",
              "      const buttonEl =\n",
              "        document.querySelector('#df-13eaf90e-78f3-41fb-a3fa-f5767a62a578 button.colab-df-convert');\n",
              "      buttonEl.style.display =\n",
              "        google.colab.kernel.accessAllowed ? 'block' : 'none';\n",
              "\n",
              "      async function convertToInteractive(key) {\n",
              "        const element = document.querySelector('#df-13eaf90e-78f3-41fb-a3fa-f5767a62a578');\n",
              "        const dataTable =\n",
              "          await google.colab.kernel.invokeFunction('convertToInteractive',\n",
              "                                                    [key], {});\n",
              "        if (!dataTable) return;\n",
              "\n",
              "        const docLinkHtml = 'Like what you see? Visit the ' +\n",
              "          '<a target=\"_blank\" href=https://colab.research.google.com/notebooks/data_table.ipynb>data table notebook</a>'\n",
              "          + ' to learn more about interactive tables.';\n",
              "        element.innerHTML = '';\n",
              "        dataTable['output_type'] = 'display_data';\n",
              "        await google.colab.output.renderOutput(dataTable, element);\n",
              "        const docLink = document.createElement('div');\n",
              "        docLink.innerHTML = docLinkHtml;\n",
              "        element.appendChild(docLink);\n",
              "      }\n",
              "    </script>\n",
              "  </div>\n",
              "\n",
              "\n",
              "<div id=\"df-d9cc2830-ad33-4b37-950c-f5b5eaaa8a37\">\n",
              "  <button class=\"colab-df-quickchart\" onclick=\"quickchart('df-d9cc2830-ad33-4b37-950c-f5b5eaaa8a37')\"\n",
              "            title=\"Suggest charts\"\n",
              "            style=\"display:none;\">\n",
              "\n",
              "<svg xmlns=\"http://www.w3.org/2000/svg\" height=\"24px\"viewBox=\"0 0 24 24\"\n",
              "     width=\"24px\">\n",
              "    <g>\n",
              "        <path d=\"M19 3H5c-1.1 0-2 .9-2 2v14c0 1.1.9 2 2 2h14c1.1 0 2-.9 2-2V5c0-1.1-.9-2-2-2zM9 17H7v-7h2v7zm4 0h-2V7h2v10zm4 0h-2v-4h2v4z\"/>\n",
              "    </g>\n",
              "</svg>\n",
              "  </button>\n",
              "\n",
              "<style>\n",
              "  .colab-df-quickchart {\n",
              "      --bg-color: #E8F0FE;\n",
              "      --fill-color: #1967D2;\n",
              "      --hover-bg-color: #E2EBFA;\n",
              "      --hover-fill-color: #174EA6;\n",
              "      --disabled-fill-color: #AAA;\n",
              "      --disabled-bg-color: #DDD;\n",
              "  }\n",
              "\n",
              "  [theme=dark] .colab-df-quickchart {\n",
              "      --bg-color: #3B4455;\n",
              "      --fill-color: #D2E3FC;\n",
              "      --hover-bg-color: #434B5C;\n",
              "      --hover-fill-color: #FFFFFF;\n",
              "      --disabled-bg-color: #3B4455;\n",
              "      --disabled-fill-color: #666;\n",
              "  }\n",
              "\n",
              "  .colab-df-quickchart {\n",
              "    background-color: var(--bg-color);\n",
              "    border: none;\n",
              "    border-radius: 50%;\n",
              "    cursor: pointer;\n",
              "    display: none;\n",
              "    fill: var(--fill-color);\n",
              "    height: 32px;\n",
              "    padding: 0;\n",
              "    width: 32px;\n",
              "  }\n",
              "\n",
              "  .colab-df-quickchart:hover {\n",
              "    background-color: var(--hover-bg-color);\n",
              "    box-shadow: 0 1px 2px rgba(60, 64, 67, 0.3), 0 1px 3px 1px rgba(60, 64, 67, 0.15);\n",
              "    fill: var(--button-hover-fill-color);\n",
              "  }\n",
              "\n",
              "  .colab-df-quickchart-complete:disabled,\n",
              "  .colab-df-quickchart-complete:disabled:hover {\n",
              "    background-color: var(--disabled-bg-color);\n",
              "    fill: var(--disabled-fill-color);\n",
              "    box-shadow: none;\n",
              "  }\n",
              "\n",
              "  .colab-df-spinner {\n",
              "    border: 2px solid var(--fill-color);\n",
              "    border-color: transparent;\n",
              "    border-bottom-color: var(--fill-color);\n",
              "    animation:\n",
              "      spin 1s steps(1) infinite;\n",
              "  }\n",
              "\n",
              "  @keyframes spin {\n",
              "    0% {\n",
              "      border-color: transparent;\n",
              "      border-bottom-color: var(--fill-color);\n",
              "      border-left-color: var(--fill-color);\n",
              "    }\n",
              "    20% {\n",
              "      border-color: transparent;\n",
              "      border-left-color: var(--fill-color);\n",
              "      border-top-color: var(--fill-color);\n",
              "    }\n",
              "    30% {\n",
              "      border-color: transparent;\n",
              "      border-left-color: var(--fill-color);\n",
              "      border-top-color: var(--fill-color);\n",
              "      border-right-color: var(--fill-color);\n",
              "    }\n",
              "    40% {\n",
              "      border-color: transparent;\n",
              "      border-right-color: var(--fill-color);\n",
              "      border-top-color: var(--fill-color);\n",
              "    }\n",
              "    60% {\n",
              "      border-color: transparent;\n",
              "      border-right-color: var(--fill-color);\n",
              "    }\n",
              "    80% {\n",
              "      border-color: transparent;\n",
              "      border-right-color: var(--fill-color);\n",
              "      border-bottom-color: var(--fill-color);\n",
              "    }\n",
              "    90% {\n",
              "      border-color: transparent;\n",
              "      border-bottom-color: var(--fill-color);\n",
              "    }\n",
              "  }\n",
              "</style>\n",
              "\n",
              "  <script>\n",
              "    async function quickchart(key) {\n",
              "      const quickchartButtonEl =\n",
              "        document.querySelector('#' + key + ' button');\n",
              "      quickchartButtonEl.disabled = true;  // To prevent multiple clicks.\n",
              "      quickchartButtonEl.classList.add('colab-df-spinner');\n",
              "      try {\n",
              "        const charts = await google.colab.kernel.invokeFunction(\n",
              "            'suggestCharts', [key], {});\n",
              "      } catch (error) {\n",
              "        console.error('Error during call to suggestCharts:', error);\n",
              "      }\n",
              "      quickchartButtonEl.classList.remove('colab-df-spinner');\n",
              "      quickchartButtonEl.classList.add('colab-df-quickchart-complete');\n",
              "    }\n",
              "    (() => {\n",
              "      let quickchartButtonEl =\n",
              "        document.querySelector('#df-d9cc2830-ad33-4b37-950c-f5b5eaaa8a37 button');\n",
              "      quickchartButtonEl.style.display =\n",
              "        google.colab.kernel.accessAllowed ? 'block' : 'none';\n",
              "    })();\n",
              "  </script>\n",
              "</div>\n",
              "\n",
              "  <div id=\"id_6023463b-713a-467a-943a-1c9d141cd230\">\n",
              "    <style>\n",
              "      .colab-df-generate {\n",
              "        background-color: #E8F0FE;\n",
              "        border: none;\n",
              "        border-radius: 50%;\n",
              "        cursor: pointer;\n",
              "        display: none;\n",
              "        fill: #1967D2;\n",
              "        height: 32px;\n",
              "        padding: 0 0 0 0;\n",
              "        width: 32px;\n",
              "      }\n",
              "\n",
              "      .colab-df-generate:hover {\n",
              "        background-color: #E2EBFA;\n",
              "        box-shadow: 0px 1px 2px rgba(60, 64, 67, 0.3), 0px 1px 3px 1px rgba(60, 64, 67, 0.15);\n",
              "        fill: #174EA6;\n",
              "      }\n",
              "\n",
              "      [theme=dark] .colab-df-generate {\n",
              "        background-color: #3B4455;\n",
              "        fill: #D2E3FC;\n",
              "      }\n",
              "\n",
              "      [theme=dark] .colab-df-generate:hover {\n",
              "        background-color: #434B5C;\n",
              "        box-shadow: 0px 1px 3px 1px rgba(0, 0, 0, 0.15);\n",
              "        filter: drop-shadow(0px 1px 2px rgba(0, 0, 0, 0.3));\n",
              "        fill: #FFFFFF;\n",
              "      }\n",
              "    </style>\n",
              "    <button class=\"colab-df-generate\" onclick=\"generateWithVariable('all_results')\"\n",
              "            title=\"Generate code using this dataframe.\"\n",
              "            style=\"display:none;\">\n",
              "\n",
              "  <svg xmlns=\"http://www.w3.org/2000/svg\" height=\"24px\"viewBox=\"0 0 24 24\"\n",
              "       width=\"24px\">\n",
              "    <path d=\"M7,19H8.4L18.45,9,17,7.55,7,17.6ZM5,21V16.75L18.45,3.32a2,2,0,0,1,2.83,0l1.4,1.43a1.91,1.91,0,0,1,.58,1.4,1.91,1.91,0,0,1-.58,1.4L9.25,21ZM18.45,9,17,7.55Zm-12,3A5.31,5.31,0,0,0,4.9,8.1,5.31,5.31,0,0,0,1,6.5,5.31,5.31,0,0,0,4.9,4.9,5.31,5.31,0,0,0,6.5,1,5.31,5.31,0,0,0,8.1,4.9,5.31,5.31,0,0,0,12,6.5,5.46,5.46,0,0,0,6.5,12Z\"/>\n",
              "  </svg>\n",
              "    </button>\n",
              "    <script>\n",
              "      (() => {\n",
              "      const buttonEl =\n",
              "        document.querySelector('#id_6023463b-713a-467a-943a-1c9d141cd230 button.colab-df-generate');\n",
              "      buttonEl.style.display =\n",
              "        google.colab.kernel.accessAllowed ? 'block' : 'none';\n",
              "\n",
              "      buttonEl.onclick = () => {\n",
              "        google.colab.notebook.generateWithVariable('all_results');\n",
              "      }\n",
              "      })();\n",
              "    </script>\n",
              "  </div>\n",
              "\n",
              "    </div>\n",
              "  </div>\n"
            ]
          },
          "metadata": {},
          "execution_count": 98
        }
      ]
    },
    {
      "cell_type": "code",
      "source": [
        "# Save a model using the SavedModel format\n",
        "model_2.save('best_model_SavedModel_format')\n"
      ],
      "metadata": {
        "id": "qcojvWK3v9MF"
      },
      "execution_count": null,
      "outputs": []
    }
  ]
}